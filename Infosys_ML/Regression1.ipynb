{
 "cells": [
  {
   "cell_type": "markdown",
   "metadata": {},
   "source": [
    "# Machine Learning Day1"
   ]
  },
  {
   "cell_type": "code",
   "execution_count": 9,
   "metadata": {},
   "outputs": [],
   "source": [
    "import pandas as pd\n",
    "import matplotlib.pyplot as plt\n",
    "%matplotlib inline"
   ]
  },
  {
   "cell_type": "code",
   "execution_count": 3,
   "metadata": {},
   "outputs": [],
   "source": [
    "computer_data = pd.read_csv(\"Z:/datasets/computers.csv\")"
   ]
  },
  {
   "cell_type": "code",
   "execution_count": 5,
   "metadata": {},
   "outputs": [
    {
     "data": {
      "text/html": [
       "<div>\n",
       "<style scoped>\n",
       "    .dataframe tbody tr th:only-of-type {\n",
       "        vertical-align: middle;\n",
       "    }\n",
       "\n",
       "    .dataframe tbody tr th {\n",
       "        vertical-align: top;\n",
       "    }\n",
       "\n",
       "    .dataframe thead th {\n",
       "        text-align: right;\n",
       "    }\n",
       "</style>\n",
       "<table border=\"1\" class=\"dataframe\">\n",
       "  <thead>\n",
       "    <tr style=\"text-align: right;\">\n",
       "      <th></th>\n",
       "      <th>Units</th>\n",
       "      <th>Minutes</th>\n",
       "    </tr>\n",
       "  </thead>\n",
       "  <tbody>\n",
       "    <tr>\n",
       "      <th>0</th>\n",
       "      <td>1</td>\n",
       "      <td>23</td>\n",
       "    </tr>\n",
       "    <tr>\n",
       "      <th>1</th>\n",
       "      <td>2</td>\n",
       "      <td>29</td>\n",
       "    </tr>\n",
       "    <tr>\n",
       "      <th>2</th>\n",
       "      <td>3</td>\n",
       "      <td>49</td>\n",
       "    </tr>\n",
       "    <tr>\n",
       "      <th>3</th>\n",
       "      <td>4</td>\n",
       "      <td>64</td>\n",
       "    </tr>\n",
       "    <tr>\n",
       "      <th>4</th>\n",
       "      <td>4</td>\n",
       "      <td>74</td>\n",
       "    </tr>\n",
       "    <tr>\n",
       "      <th>5</th>\n",
       "      <td>5</td>\n",
       "      <td>87</td>\n",
       "    </tr>\n",
       "    <tr>\n",
       "      <th>6</th>\n",
       "      <td>6</td>\n",
       "      <td>96</td>\n",
       "    </tr>\n",
       "    <tr>\n",
       "      <th>7</th>\n",
       "      <td>6</td>\n",
       "      <td>97</td>\n",
       "    </tr>\n",
       "    <tr>\n",
       "      <th>8</th>\n",
       "      <td>7</td>\n",
       "      <td>109</td>\n",
       "    </tr>\n",
       "    <tr>\n",
       "      <th>9</th>\n",
       "      <td>8</td>\n",
       "      <td>119</td>\n",
       "    </tr>\n",
       "    <tr>\n",
       "      <th>10</th>\n",
       "      <td>9</td>\n",
       "      <td>149</td>\n",
       "    </tr>\n",
       "    <tr>\n",
       "      <th>11</th>\n",
       "      <td>9</td>\n",
       "      <td>145</td>\n",
       "    </tr>\n",
       "    <tr>\n",
       "      <th>12</th>\n",
       "      <td>10</td>\n",
       "      <td>154</td>\n",
       "    </tr>\n",
       "    <tr>\n",
       "      <th>13</th>\n",
       "      <td>10</td>\n",
       "      <td>166</td>\n",
       "    </tr>\n",
       "  </tbody>\n",
       "</table>\n",
       "</div>"
      ],
      "text/plain": [
       "    Units  Minutes\n",
       "0       1       23\n",
       "1       2       29\n",
       "2       3       49\n",
       "3       4       64\n",
       "4       4       74\n",
       "5       5       87\n",
       "6       6       96\n",
       "7       6       97\n",
       "8       7      109\n",
       "9       8      119\n",
       "10      9      149\n",
       "11      9      145\n",
       "12     10      154\n",
       "13     10      166"
      ]
     },
     "execution_count": 5,
     "metadata": {},
     "output_type": "execute_result"
    }
   ],
   "source": [
    "computer_data"
   ]
  },
  {
   "cell_type": "markdown",
   "metadata": {},
   "source": [
    "# Units indicates the no. of faulty components in a computer\n",
    "#Minutes indicates the time taken to replace those components"
   ]
  },
  {
   "cell_type": "markdown",
   "metadata": {},
   "source": [
    "Outliers are either less than Q1 - 1.5IQR  or greater than Q3 + 1.5IQR where IQR = Q3 - Q1"
   ]
  },
  {
   "cell_type": "code",
   "execution_count": 6,
   "metadata": {},
   "outputs": [
    {
     "data": {
      "text/html": [
       "<div>\n",
       "<style scoped>\n",
       "    .dataframe tbody tr th:only-of-type {\n",
       "        vertical-align: middle;\n",
       "    }\n",
       "\n",
       "    .dataframe tbody tr th {\n",
       "        vertical-align: top;\n",
       "    }\n",
       "\n",
       "    .dataframe thead th {\n",
       "        text-align: right;\n",
       "    }\n",
       "</style>\n",
       "<table border=\"1\" class=\"dataframe\">\n",
       "  <thead>\n",
       "    <tr style=\"text-align: right;\">\n",
       "      <th></th>\n",
       "      <th>Units</th>\n",
       "      <th>Minutes</th>\n",
       "    </tr>\n",
       "  </thead>\n",
       "  <tbody>\n",
       "    <tr>\n",
       "      <th>count</th>\n",
       "      <td>14.000000</td>\n",
       "      <td>14.000000</td>\n",
       "    </tr>\n",
       "    <tr>\n",
       "      <th>mean</th>\n",
       "      <td>6.000000</td>\n",
       "      <td>97.214286</td>\n",
       "    </tr>\n",
       "    <tr>\n",
       "      <th>std</th>\n",
       "      <td>2.961289</td>\n",
       "      <td>46.217177</td>\n",
       "    </tr>\n",
       "    <tr>\n",
       "      <th>min</th>\n",
       "      <td>1.000000</td>\n",
       "      <td>23.000000</td>\n",
       "    </tr>\n",
       "    <tr>\n",
       "      <th>25%</th>\n",
       "      <td>4.000000</td>\n",
       "      <td>66.500000</td>\n",
       "    </tr>\n",
       "    <tr>\n",
       "      <th>50%</th>\n",
       "      <td>6.000000</td>\n",
       "      <td>96.500000</td>\n",
       "    </tr>\n",
       "    <tr>\n",
       "      <th>75%</th>\n",
       "      <td>8.750000</td>\n",
       "      <td>138.500000</td>\n",
       "    </tr>\n",
       "    <tr>\n",
       "      <th>max</th>\n",
       "      <td>10.000000</td>\n",
       "      <td>166.000000</td>\n",
       "    </tr>\n",
       "  </tbody>\n",
       "</table>\n",
       "</div>"
      ],
      "text/plain": [
       "           Units     Minutes\n",
       "count  14.000000   14.000000\n",
       "mean    6.000000   97.214286\n",
       "std     2.961289   46.217177\n",
       "min     1.000000   23.000000\n",
       "25%     4.000000   66.500000\n",
       "50%     6.000000   96.500000\n",
       "75%     8.750000  138.500000\n",
       "max    10.000000  166.000000"
      ]
     },
     "execution_count": 6,
     "metadata": {},
     "output_type": "execute_result"
    }
   ],
   "source": [
    "computer_data.describe()"
   ]
  },
  {
   "cell_type": "markdown",
   "metadata": {},
   "source": [
    "Median of minutes = 96.5, Mean of Minutes = 97.21"
   ]
  },
  {
   "cell_type": "markdown",
   "metadata": {},
   "source": [
    "Imagine data did not have units\n",
    "Can you predict how much time will it take for a new instance of computer repair?"
   ]
  },
  {
   "cell_type": "code",
   "execution_count": 12,
   "metadata": {},
   "outputs": [],
   "source": [
    "# 3 estimates\n",
    "est1 = 10\n",
    "est2 = 97.21\n",
    "est3 = 150"
   ]
  },
  {
   "cell_type": "code",
   "execution_count": 21,
   "metadata": {},
   "outputs": [
    {
     "data": {
      "text/plain": [
       "-87.21428571428571"
      ]
     },
     "execution_count": 21,
     "metadata": {},
     "output_type": "execute_result"
    }
   ],
   "source": [
    "# what is the quality matrix that can say which estimate is better?\n",
    "# difference between estimated time and actual time?\n",
    "(est1 - computer_data[\"Minutes\"]).mean()"
   ]
  },
  {
   "cell_type": "code",
   "execution_count": 10,
   "metadata": {},
   "outputs": [
    {
     "data": {
      "text/plain": [
       "<matplotlib.axes._subplots.AxesSubplot at 0x19015840c18>"
      ]
     },
     "execution_count": 10,
     "metadata": {},
     "output_type": "execute_result"
    },
    {
     "data": {
      "image/png": "[encoded data removed]",
      "text/plain": [
       "<Figure size 432x288 with 1 Axes>"
      ]
     },
     "metadata": {
      "needs_background": "light"
     },
     "output_type": "display_data"
    }
   ],
   "source": [
    "computer_data.plot(\"Minutes\")"
   ]
  },
  {
   "cell_type": "code",
   "execution_count": 20,
   "metadata": {},
   "outputs": [
    {
     "data": {
      "text/plain": [
       "-0.004285714285727644"
      ]
     },
     "execution_count": 20,
     "metadata": {},
     "output_type": "execute_result"
    }
   ],
   "source": [
    "(est2 - computer_data[\"Minutes\"]).mean()"
   ]
  },
  {
   "cell_type": "code",
   "execution_count": 19,
   "metadata": {},
   "outputs": [
    {
     "data": {
      "text/plain": [
       "52.785714285714285"
      ]
     },
     "execution_count": 19,
     "metadata": {},
     "output_type": "execute_result"
    }
   ],
   "source": [
    "(est3 - computer_data[\"Minutes\"]).mean()"
   ]
  },
  {
   "cell_type": "markdown",
   "metadata": {},
   "source": [
    "Best estimate in the absence of other information - mean"
   ]
  },
  {
   "cell_type": "code",
   "execution_count": 22,
   "metadata": {},
   "outputs": [],
   "source": [
    "# New Quality metric based on the mean model\n",
    "# wILL BE DEFINED SOONER OR lATER...."
   ]
  },
  {
   "cell_type": "code",
   "execution_count": 100,
   "metadata": {},
   "outputs": [
    {
     "data": {
      "text/plain": [
       "<matplotlib.collections.PathCollection at 0x19018bfd668>"
      ]
     },
     "execution_count": 100,
     "metadata": {},
     "output_type": "execute_result"
    },
    {
     "data": {
      "image/png": "[encoded data removed]",
      "text/plain": [
       "<Figure size 432x288 with 1 Axes>"
      ]
     },
     "metadata": {
      "needs_background": "light"
     },
     "output_type": "display_data"
    }
   ],
   "source": [
    "plt.scatter(computer_data[\"Units\"],computer_data[\"Minutes\"])"
   ]
  },
  {
   "cell_type": "code",
   "execution_count": 24,
   "metadata": {},
   "outputs": [
    {
     "data": {
      "text/html": [
       "<div>\n",
       "<style scoped>\n",
       "    .dataframe tbody tr th:only-of-type {\n",
       "        vertical-align: middle;\n",
       "    }\n",
       "\n",
       "    .dataframe tbody tr th {\n",
       "        vertical-align: top;\n",
       "    }\n",
       "\n",
       "    .dataframe thead th {\n",
       "        text-align: right;\n",
       "    }\n",
       "</style>\n",
       "<table border=\"1\" class=\"dataframe\">\n",
       "  <thead>\n",
       "    <tr style=\"text-align: right;\">\n",
       "      <th></th>\n",
       "      <th>Units</th>\n",
       "      <th>Minutes</th>\n",
       "    </tr>\n",
       "  </thead>\n",
       "  <tbody>\n",
       "    <tr>\n",
       "      <th>Units</th>\n",
       "      <td>1.000000</td>\n",
       "      <td>0.993699</td>\n",
       "    </tr>\n",
       "    <tr>\n",
       "      <th>Minutes</th>\n",
       "      <td>0.993699</td>\n",
       "      <td>1.000000</td>\n",
       "    </tr>\n",
       "  </tbody>\n",
       "</table>\n",
       "</div>"
      ],
      "text/plain": [
       "            Units   Minutes\n",
       "Units    1.000000  0.993699\n",
       "Minutes  0.993699  1.000000"
      ]
     },
     "execution_count": 24,
     "metadata": {},
     "output_type": "execute_result"
    }
   ],
   "source": [
    "computer_data.corr()"
   ]
  },
  {
   "cell_type": "code",
   "execution_count": 25,
   "metadata": {},
   "outputs": [],
   "source": [
    "import numpy as np"
   ]
  },
  {
   "cell_type": "code",
   "execution_count": 28,
   "metadata": {},
   "outputs": [],
   "source": [
    "r1= np.random.randn(2,4).ravel()"
   ]
  },
  {
   "cell_type": "code",
   "execution_count": 29,
   "metadata": {},
   "outputs": [
    {
     "data": {
      "text/plain": [
       "array([ 1.26613659, -1.18213106,  0.44463641,  1.08424623,  0.37794201,\n",
       "       -2.43003512, -0.2677542 , -0.23693542])"
      ]
     },
     "execution_count": 29,
     "metadata": {},
     "output_type": "execute_result"
    }
   ],
   "source": [
    "r1"
   ]
  },
  {
   "cell_type": "code",
   "execution_count": 30,
   "metadata": {},
   "outputs": [],
   "source": [
    "r2 = np.random.randn(2,4).ravel()"
   ]
  },
  {
   "cell_type": "code",
   "execution_count": 31,
   "metadata": {},
   "outputs": [
    {
     "data": {
      "text/plain": [
       "array([ 2.18454124, -0.17545035,  1.09933811, -0.23308736, -0.54432905,\n",
       "       -0.57607654, -0.20823064,  0.11694543])"
      ]
     },
     "execution_count": 31,
     "metadata": {},
     "output_type": "execute_result"
    }
   ],
   "source": [
    "r2"
   ]
  },
  {
   "cell_type": "code",
   "execution_count": 35,
   "metadata": {},
   "outputs": [
    {
     "data": {
      "text/plain": [
       "<matplotlib.collections.PathCollection at 0x190159fe978>"
      ]
     },
     "execution_count": 35,
     "metadata": {},
     "output_type": "execute_result"
    },
    {
     "data": {
      "image/png": "[encoded data removed]",
      "text/plain": [
       "<Figure size 432x288 with 1 Axes>"
      ]
     },
     "metadata": {
      "needs_background": "light"
     },
     "output_type": "display_data"
    }
   ],
   "source": [
    "plt.scatter(r1,r2)"
   ]
  },
  {
   "cell_type": "code",
   "execution_count": 36,
   "metadata": {},
   "outputs": [
    {
     "data": {
      "text/plain": [
       "array([[1.        , 0.56599035],\n",
       "       [0.56599035, 1.        ]])"
      ]
     },
     "execution_count": 36,
     "metadata": {},
     "output_type": "execute_result"
    }
   ],
   "source": [
    "np.corrcoef(r1,r2)"
   ]
  },
  {
   "cell_type": "code",
   "execution_count": 41,
   "metadata": {},
   "outputs": [],
   "source": [
    "a = np.array([i for i in range(-100,100)])"
   ]
  },
  {
   "cell_type": "code",
   "execution_count": 46,
   "metadata": {},
   "outputs": [],
   "source": [
    "b=(100*a*a)"
   ]
  },
  {
   "cell_type": "code",
   "execution_count": 50,
   "metadata": {},
   "outputs": [
    {
     "data": {
      "text/plain": [
       "<matplotlib.collections.PathCollection at 0x190174cd7f0>"
      ]
     },
     "execution_count": 50,
     "metadata": {},
     "output_type": "execute_result"
    },
    {
     "data": {
      "image/png": "[encoded data removed]",
      "text/plain": [
       "<Figure size 432x288 with 1 Axes>"
      ]
     },
     "metadata": {
      "needs_background": "light"
     },
     "output_type": "display_data"
    }
   ],
   "source": [
    "plt.scatter(a,b)"
   ]
  },
  {
   "cell_type": "code",
   "execution_count": 48,
   "metadata": {},
   "outputs": [
    {
     "data": {
      "text/plain": [
       "array([[ 1.        , -0.01936225],\n",
       "       [-0.01936225,  1.        ]])"
      ]
     },
     "execution_count": 48,
     "metadata": {},
     "output_type": "execute_result"
    }
   ],
   "source": [
    "np.corrcoef(a,b)"
   ]
  },
  {
   "cell_type": "code",
   "execution_count": 51,
   "metadata": {},
   "outputs": [],
   "source": [
    "# est_minutes = m*Units + c\n",
    "m1 = 6\n",
    "c1 = 10\n",
    "\n",
    "m2 = 18\n",
    "c2 = 8\n",
    "\n",
    "m3 = 15\n",
    "c3 = 7"
   ]
  },
  {
   "cell_type": "code",
   "execution_count": 56,
   "metadata": {},
   "outputs": [],
   "source": [
    "computer_data[\"est1\"] = m1*computer_data[\"Units\"] + c1\n",
    "computer_data[\"est2\"] = m2*computer_data[\"Units\"] + c2\n",
    "computer_data[\"est3\"] = m3*computer_data[\"Units\"] + c3"
   ]
  },
  {
   "cell_type": "code",
   "execution_count": 57,
   "metadata": {},
   "outputs": [
    {
     "data": {
      "text/html": [
       "<div>\n",
       "<style scoped>\n",
       "    .dataframe tbody tr th:only-of-type {\n",
       "        vertical-align: middle;\n",
       "    }\n",
       "\n",
       "    .dataframe tbody tr th {\n",
       "        vertical-align: top;\n",
       "    }\n",
       "\n",
       "    .dataframe thead th {\n",
       "        text-align: right;\n",
       "    }\n",
       "</style>\n",
       "<table border=\"1\" class=\"dataframe\">\n",
       "  <thead>\n",
       "    <tr style=\"text-align: right;\">\n",
       "      <th></th>\n",
       "      <th>Units</th>\n",
       "      <th>Minutes</th>\n",
       "      <th>est1</th>\n",
       "      <th>est2</th>\n",
       "      <th>est3</th>\n",
       "    </tr>\n",
       "  </thead>\n",
       "  <tbody>\n",
       "    <tr>\n",
       "      <th>0</th>\n",
       "      <td>1</td>\n",
       "      <td>23</td>\n",
       "      <td>16</td>\n",
       "      <td>26</td>\n",
       "      <td>22</td>\n",
       "    </tr>\n",
       "    <tr>\n",
       "      <th>1</th>\n",
       "      <td>2</td>\n",
       "      <td>29</td>\n",
       "      <td>22</td>\n",
       "      <td>44</td>\n",
       "      <td>37</td>\n",
       "    </tr>\n",
       "    <tr>\n",
       "      <th>2</th>\n",
       "      <td>3</td>\n",
       "      <td>49</td>\n",
       "      <td>28</td>\n",
       "      <td>62</td>\n",
       "      <td>52</td>\n",
       "    </tr>\n",
       "    <tr>\n",
       "      <th>3</th>\n",
       "      <td>4</td>\n",
       "      <td>64</td>\n",
       "      <td>34</td>\n",
       "      <td>80</td>\n",
       "      <td>67</td>\n",
       "    </tr>\n",
       "    <tr>\n",
       "      <th>4</th>\n",
       "      <td>4</td>\n",
       "      <td>74</td>\n",
       "      <td>34</td>\n",
       "      <td>80</td>\n",
       "      <td>67</td>\n",
       "    </tr>\n",
       "    <tr>\n",
       "      <th>5</th>\n",
       "      <td>5</td>\n",
       "      <td>87</td>\n",
       "      <td>40</td>\n",
       "      <td>98</td>\n",
       "      <td>82</td>\n",
       "    </tr>\n",
       "    <tr>\n",
       "      <th>6</th>\n",
       "      <td>6</td>\n",
       "      <td>96</td>\n",
       "      <td>46</td>\n",
       "      <td>116</td>\n",
       "      <td>97</td>\n",
       "    </tr>\n",
       "    <tr>\n",
       "      <th>7</th>\n",
       "      <td>6</td>\n",
       "      <td>97</td>\n",
       "      <td>46</td>\n",
       "      <td>116</td>\n",
       "      <td>97</td>\n",
       "    </tr>\n",
       "    <tr>\n",
       "      <th>8</th>\n",
       "      <td>7</td>\n",
       "      <td>109</td>\n",
       "      <td>52</td>\n",
       "      <td>134</td>\n",
       "      <td>112</td>\n",
       "    </tr>\n",
       "    <tr>\n",
       "      <th>9</th>\n",
       "      <td>8</td>\n",
       "      <td>119</td>\n",
       "      <td>58</td>\n",
       "      <td>152</td>\n",
       "      <td>127</td>\n",
       "    </tr>\n",
       "    <tr>\n",
       "      <th>10</th>\n",
       "      <td>9</td>\n",
       "      <td>149</td>\n",
       "      <td>64</td>\n",
       "      <td>170</td>\n",
       "      <td>142</td>\n",
       "    </tr>\n",
       "    <tr>\n",
       "      <th>11</th>\n",
       "      <td>9</td>\n",
       "      <td>145</td>\n",
       "      <td>64</td>\n",
       "      <td>170</td>\n",
       "      <td>142</td>\n",
       "    </tr>\n",
       "    <tr>\n",
       "      <th>12</th>\n",
       "      <td>10</td>\n",
       "      <td>154</td>\n",
       "      <td>70</td>\n",
       "      <td>188</td>\n",
       "      <td>157</td>\n",
       "    </tr>\n",
       "    <tr>\n",
       "      <th>13</th>\n",
       "      <td>10</td>\n",
       "      <td>166</td>\n",
       "      <td>70</td>\n",
       "      <td>188</td>\n",
       "      <td>157</td>\n",
       "    </tr>\n",
       "  </tbody>\n",
       "</table>\n",
       "</div>"
      ],
      "text/plain": [
       "    Units  Minutes  est1  est2  est3\n",
       "0       1       23    16    26    22\n",
       "1       2       29    22    44    37\n",
       "2       3       49    28    62    52\n",
       "3       4       64    34    80    67\n",
       "4       4       74    34    80    67\n",
       "5       5       87    40    98    82\n",
       "6       6       96    46   116    97\n",
       "7       6       97    46   116    97\n",
       "8       7      109    52   134   112\n",
       "9       8      119    58   152   127\n",
       "10      9      149    64   170   142\n",
       "11      9      145    64   170   142\n",
       "12     10      154    70   188   157\n",
       "13     10      166    70   188   157"
      ]
     },
     "execution_count": 57,
     "metadata": {},
     "output_type": "execute_result"
    }
   ],
   "source": [
    "computer_data\n"
   ]
  },
  {
   "cell_type": "code",
   "execution_count": 58,
   "metadata": {},
   "outputs": [],
   "source": [
    "computer_data[\"error1\"] = computer_data[\"est1\"] - computer_data[\"Minutes\"]\n",
    "computer_data[\"error2\"] = computer_data[\"est2\"] - computer_data[\"Minutes\"]\n",
    "computer_data[\"error3\"] = computer_data[\"est3\"] - computer_data[\"Minutes\"]"
   ]
  },
  {
   "cell_type": "code",
   "execution_count": 59,
   "metadata": {},
   "outputs": [
    {
     "data": {
      "text/html": [
       "<div>\n",
       "<style scoped>\n",
       "    .dataframe tbody tr th:only-of-type {\n",
       "        vertical-align: middle;\n",
       "    }\n",
       "\n",
       "    .dataframe tbody tr th {\n",
       "        vertical-align: top;\n",
       "    }\n",
       "\n",
       "    .dataframe thead th {\n",
       "        text-align: right;\n",
       "    }\n",
       "</style>\n",
       "<table border=\"1\" class=\"dataframe\">\n",
       "  <thead>\n",
       "    <tr style=\"text-align: right;\">\n",
       "      <th></th>\n",
       "      <th>Units</th>\n",
       "      <th>Minutes</th>\n",
       "      <th>est1</th>\n",
       "      <th>est2</th>\n",
       "      <th>est3</th>\n",
       "      <th>error1</th>\n",
       "      <th>error2</th>\n",
       "      <th>error3</th>\n",
       "    </tr>\n",
       "  </thead>\n",
       "  <tbody>\n",
       "    <tr>\n",
       "      <th>0</th>\n",
       "      <td>1</td>\n",
       "      <td>23</td>\n",
       "      <td>16</td>\n",
       "      <td>26</td>\n",
       "      <td>22</td>\n",
       "      <td>-7</td>\n",
       "      <td>3</td>\n",
       "      <td>-1</td>\n",
       "    </tr>\n",
       "    <tr>\n",
       "      <th>1</th>\n",
       "      <td>2</td>\n",
       "      <td>29</td>\n",
       "      <td>22</td>\n",
       "      <td>44</td>\n",
       "      <td>37</td>\n",
       "      <td>-7</td>\n",
       "      <td>15</td>\n",
       "      <td>8</td>\n",
       "    </tr>\n",
       "    <tr>\n",
       "      <th>2</th>\n",
       "      <td>3</td>\n",
       "      <td>49</td>\n",
       "      <td>28</td>\n",
       "      <td>62</td>\n",
       "      <td>52</td>\n",
       "      <td>-21</td>\n",
       "      <td>13</td>\n",
       "      <td>3</td>\n",
       "    </tr>\n",
       "    <tr>\n",
       "      <th>3</th>\n",
       "      <td>4</td>\n",
       "      <td>64</td>\n",
       "      <td>34</td>\n",
       "      <td>80</td>\n",
       "      <td>67</td>\n",
       "      <td>-30</td>\n",
       "      <td>16</td>\n",
       "      <td>3</td>\n",
       "    </tr>\n",
       "    <tr>\n",
       "      <th>4</th>\n",
       "      <td>4</td>\n",
       "      <td>74</td>\n",
       "      <td>34</td>\n",
       "      <td>80</td>\n",
       "      <td>67</td>\n",
       "      <td>-40</td>\n",
       "      <td>6</td>\n",
       "      <td>-7</td>\n",
       "    </tr>\n",
       "    <tr>\n",
       "      <th>5</th>\n",
       "      <td>5</td>\n",
       "      <td>87</td>\n",
       "      <td>40</td>\n",
       "      <td>98</td>\n",
       "      <td>82</td>\n",
       "      <td>-47</td>\n",
       "      <td>11</td>\n",
       "      <td>-5</td>\n",
       "    </tr>\n",
       "    <tr>\n",
       "      <th>6</th>\n",
       "      <td>6</td>\n",
       "      <td>96</td>\n",
       "      <td>46</td>\n",
       "      <td>116</td>\n",
       "      <td>97</td>\n",
       "      <td>-50</td>\n",
       "      <td>20</td>\n",
       "      <td>1</td>\n",
       "    </tr>\n",
       "    <tr>\n",
       "      <th>7</th>\n",
       "      <td>6</td>\n",
       "      <td>97</td>\n",
       "      <td>46</td>\n",
       "      <td>116</td>\n",
       "      <td>97</td>\n",
       "      <td>-51</td>\n",
       "      <td>19</td>\n",
       "      <td>0</td>\n",
       "    </tr>\n",
       "    <tr>\n",
       "      <th>8</th>\n",
       "      <td>7</td>\n",
       "      <td>109</td>\n",
       "      <td>52</td>\n",
       "      <td>134</td>\n",
       "      <td>112</td>\n",
       "      <td>-57</td>\n",
       "      <td>25</td>\n",
       "      <td>3</td>\n",
       "    </tr>\n",
       "    <tr>\n",
       "      <th>9</th>\n",
       "      <td>8</td>\n",
       "      <td>119</td>\n",
       "      <td>58</td>\n",
       "      <td>152</td>\n",
       "      <td>127</td>\n",
       "      <td>-61</td>\n",
       "      <td>33</td>\n",
       "      <td>8</td>\n",
       "    </tr>\n",
       "    <tr>\n",
       "      <th>10</th>\n",
       "      <td>9</td>\n",
       "      <td>149</td>\n",
       "      <td>64</td>\n",
       "      <td>170</td>\n",
       "      <td>142</td>\n",
       "      <td>-85</td>\n",
       "      <td>21</td>\n",
       "      <td>-7</td>\n",
       "    </tr>\n",
       "    <tr>\n",
       "      <th>11</th>\n",
       "      <td>9</td>\n",
       "      <td>145</td>\n",
       "      <td>64</td>\n",
       "      <td>170</td>\n",
       "      <td>142</td>\n",
       "      <td>-81</td>\n",
       "      <td>25</td>\n",
       "      <td>-3</td>\n",
       "    </tr>\n",
       "    <tr>\n",
       "      <th>12</th>\n",
       "      <td>10</td>\n",
       "      <td>154</td>\n",
       "      <td>70</td>\n",
       "      <td>188</td>\n",
       "      <td>157</td>\n",
       "      <td>-84</td>\n",
       "      <td>34</td>\n",
       "      <td>3</td>\n",
       "    </tr>\n",
       "    <tr>\n",
       "      <th>13</th>\n",
       "      <td>10</td>\n",
       "      <td>166</td>\n",
       "      <td>70</td>\n",
       "      <td>188</td>\n",
       "      <td>157</td>\n",
       "      <td>-96</td>\n",
       "      <td>22</td>\n",
       "      <td>-9</td>\n",
       "    </tr>\n",
       "  </tbody>\n",
       "</table>\n",
       "</div>"
      ],
      "text/plain": [
       "    Units  Minutes  est1  est2  est3  error1  error2  error3\n",
       "0       1       23    16    26    22      -7       3      -1\n",
       "1       2       29    22    44    37      -7      15       8\n",
       "2       3       49    28    62    52     -21      13       3\n",
       "3       4       64    34    80    67     -30      16       3\n",
       "4       4       74    34    80    67     -40       6      -7\n",
       "5       5       87    40    98    82     -47      11      -5\n",
       "6       6       96    46   116    97     -50      20       1\n",
       "7       6       97    46   116    97     -51      19       0\n",
       "8       7      109    52   134   112     -57      25       3\n",
       "9       8      119    58   152   127     -61      33       8\n",
       "10      9      149    64   170   142     -85      21      -7\n",
       "11      9      145    64   170   142     -81      25      -3\n",
       "12     10      154    70   188   157     -84      34       3\n",
       "13     10      166    70   188   157     -96      22      -9"
      ]
     },
     "execution_count": 59,
     "metadata": {},
     "output_type": "execute_result"
    }
   ],
   "source": [
    "computer_data"
   ]
  },
  {
   "cell_type": "code",
   "execution_count": 60,
   "metadata": {},
   "outputs": [
    {
     "data": {
      "text/plain": [
       "-51.214285714285715"
      ]
     },
     "execution_count": 60,
     "metadata": {},
     "output_type": "execute_result"
    }
   ],
   "source": [
    "# Average error when using est1(model1)\n",
    "computer_data[\"error1\"].mean()"
   ]
  },
  {
   "cell_type": "code",
   "execution_count": 61,
   "metadata": {},
   "outputs": [
    {
     "data": {
      "text/plain": [
       "18.785714285714285"
      ]
     },
     "execution_count": 61,
     "metadata": {},
     "output_type": "execute_result"
    }
   ],
   "source": [
    "# Average error when using est2(model1)\n",
    "computer_data[\"error2\"].mean()"
   ]
  },
  {
   "cell_type": "code",
   "execution_count": 62,
   "metadata": {},
   "outputs": [
    {
     "data": {
      "text/plain": [
       "-0.21428571428571427"
      ]
     },
     "execution_count": 62,
     "metadata": {},
     "output_type": "execute_result"
    }
   ],
   "source": [
    "# Average error when using est3(model1)\n",
    "computer_data[\"error3\"].mean()"
   ]
  },
  {
   "cell_type": "code",
   "execution_count": 63,
   "metadata": {},
   "outputs": [],
   "source": [
    "computer_data[\"mean_est\"] = computer_data.Minutes.mean()"
   ]
  },
  {
   "cell_type": "code",
   "execution_count": 64,
   "metadata": {},
   "outputs": [],
   "source": [
    "computer_data[\"error_mean\"] = computer_data[\"mean_est\"] -computer_data[\"Minutes\"]"
   ]
  },
  {
   "cell_type": "code",
   "execution_count": 65,
   "metadata": {},
   "outputs": [
    {
     "data": {
      "text/html": [
       "<div>\n",
       "<style scoped>\n",
       "    .dataframe tbody tr th:only-of-type {\n",
       "        vertical-align: middle;\n",
       "    }\n",
       "\n",
       "    .dataframe tbody tr th {\n",
       "        vertical-align: top;\n",
       "    }\n",
       "\n",
       "    .dataframe thead th {\n",
       "        text-align: right;\n",
       "    }\n",
       "</style>\n",
       "<table border=\"1\" class=\"dataframe\">\n",
       "  <thead>\n",
       "    <tr style=\"text-align: right;\">\n",
       "      <th></th>\n",
       "      <th>Units</th>\n",
       "      <th>Minutes</th>\n",
       "      <th>est1</th>\n",
       "      <th>est2</th>\n",
       "      <th>est3</th>\n",
       "      <th>error1</th>\n",
       "      <th>error2</th>\n",
       "      <th>error3</th>\n",
       "      <th>mean_est</th>\n",
       "      <th>error_mean</th>\n",
       "    </tr>\n",
       "  </thead>\n",
       "  <tbody>\n",
       "    <tr>\n",
       "      <th>0</th>\n",
       "      <td>1</td>\n",
       "      <td>23</td>\n",
       "      <td>16</td>\n",
       "      <td>26</td>\n",
       "      <td>22</td>\n",
       "      <td>-7</td>\n",
       "      <td>3</td>\n",
       "      <td>-1</td>\n",
       "      <td>97.214286</td>\n",
       "      <td>74.214286</td>\n",
       "    </tr>\n",
       "    <tr>\n",
       "      <th>1</th>\n",
       "      <td>2</td>\n",
       "      <td>29</td>\n",
       "      <td>22</td>\n",
       "      <td>44</td>\n",
       "      <td>37</td>\n",
       "      <td>-7</td>\n",
       "      <td>15</td>\n",
       "      <td>8</td>\n",
       "      <td>97.214286</td>\n",
       "      <td>68.214286</td>\n",
       "    </tr>\n",
       "    <tr>\n",
       "      <th>2</th>\n",
       "      <td>3</td>\n",
       "      <td>49</td>\n",
       "      <td>28</td>\n",
       "      <td>62</td>\n",
       "      <td>52</td>\n",
       "      <td>-21</td>\n",
       "      <td>13</td>\n",
       "      <td>3</td>\n",
       "      <td>97.214286</td>\n",
       "      <td>48.214286</td>\n",
       "    </tr>\n",
       "    <tr>\n",
       "      <th>3</th>\n",
       "      <td>4</td>\n",
       "      <td>64</td>\n",
       "      <td>34</td>\n",
       "      <td>80</td>\n",
       "      <td>67</td>\n",
       "      <td>-30</td>\n",
       "      <td>16</td>\n",
       "      <td>3</td>\n",
       "      <td>97.214286</td>\n",
       "      <td>33.214286</td>\n",
       "    </tr>\n",
       "    <tr>\n",
       "      <th>4</th>\n",
       "      <td>4</td>\n",
       "      <td>74</td>\n",
       "      <td>34</td>\n",
       "      <td>80</td>\n",
       "      <td>67</td>\n",
       "      <td>-40</td>\n",
       "      <td>6</td>\n",
       "      <td>-7</td>\n",
       "      <td>97.214286</td>\n",
       "      <td>23.214286</td>\n",
       "    </tr>\n",
       "    <tr>\n",
       "      <th>5</th>\n",
       "      <td>5</td>\n",
       "      <td>87</td>\n",
       "      <td>40</td>\n",
       "      <td>98</td>\n",
       "      <td>82</td>\n",
       "      <td>-47</td>\n",
       "      <td>11</td>\n",
       "      <td>-5</td>\n",
       "      <td>97.214286</td>\n",
       "      <td>10.214286</td>\n",
       "    </tr>\n",
       "    <tr>\n",
       "      <th>6</th>\n",
       "      <td>6</td>\n",
       "      <td>96</td>\n",
       "      <td>46</td>\n",
       "      <td>116</td>\n",
       "      <td>97</td>\n",
       "      <td>-50</td>\n",
       "      <td>20</td>\n",
       "      <td>1</td>\n",
       "      <td>97.214286</td>\n",
       "      <td>1.214286</td>\n",
       "    </tr>\n",
       "    <tr>\n",
       "      <th>7</th>\n",
       "      <td>6</td>\n",
       "      <td>97</td>\n",
       "      <td>46</td>\n",
       "      <td>116</td>\n",
       "      <td>97</td>\n",
       "      <td>-51</td>\n",
       "      <td>19</td>\n",
       "      <td>0</td>\n",
       "      <td>97.214286</td>\n",
       "      <td>0.214286</td>\n",
       "    </tr>\n",
       "    <tr>\n",
       "      <th>8</th>\n",
       "      <td>7</td>\n",
       "      <td>109</td>\n",
       "      <td>52</td>\n",
       "      <td>134</td>\n",
       "      <td>112</td>\n",
       "      <td>-57</td>\n",
       "      <td>25</td>\n",
       "      <td>3</td>\n",
       "      <td>97.214286</td>\n",
       "      <td>-11.785714</td>\n",
       "    </tr>\n",
       "    <tr>\n",
       "      <th>9</th>\n",
       "      <td>8</td>\n",
       "      <td>119</td>\n",
       "      <td>58</td>\n",
       "      <td>152</td>\n",
       "      <td>127</td>\n",
       "      <td>-61</td>\n",
       "      <td>33</td>\n",
       "      <td>8</td>\n",
       "      <td>97.214286</td>\n",
       "      <td>-21.785714</td>\n",
       "    </tr>\n",
       "    <tr>\n",
       "      <th>10</th>\n",
       "      <td>9</td>\n",
       "      <td>149</td>\n",
       "      <td>64</td>\n",
       "      <td>170</td>\n",
       "      <td>142</td>\n",
       "      <td>-85</td>\n",
       "      <td>21</td>\n",
       "      <td>-7</td>\n",
       "      <td>97.214286</td>\n",
       "      <td>-51.785714</td>\n",
       "    </tr>\n",
       "    <tr>\n",
       "      <th>11</th>\n",
       "      <td>9</td>\n",
       "      <td>145</td>\n",
       "      <td>64</td>\n",
       "      <td>170</td>\n",
       "      <td>142</td>\n",
       "      <td>-81</td>\n",
       "      <td>25</td>\n",
       "      <td>-3</td>\n",
       "      <td>97.214286</td>\n",
       "      <td>-47.785714</td>\n",
       "    </tr>\n",
       "    <tr>\n",
       "      <th>12</th>\n",
       "      <td>10</td>\n",
       "      <td>154</td>\n",
       "      <td>70</td>\n",
       "      <td>188</td>\n",
       "      <td>157</td>\n",
       "      <td>-84</td>\n",
       "      <td>34</td>\n",
       "      <td>3</td>\n",
       "      <td>97.214286</td>\n",
       "      <td>-56.785714</td>\n",
       "    </tr>\n",
       "    <tr>\n",
       "      <th>13</th>\n",
       "      <td>10</td>\n",
       "      <td>166</td>\n",
       "      <td>70</td>\n",
       "      <td>188</td>\n",
       "      <td>157</td>\n",
       "      <td>-96</td>\n",
       "      <td>22</td>\n",
       "      <td>-9</td>\n",
       "      <td>97.214286</td>\n",
       "      <td>-68.785714</td>\n",
       "    </tr>\n",
       "  </tbody>\n",
       "</table>\n",
       "</div>"
      ],
      "text/plain": [
       "    Units  Minutes  est1  est2  est3  error1  error2  error3   mean_est  \\\n",
       "0       1       23    16    26    22      -7       3      -1  97.214286   \n",
       "1       2       29    22    44    37      -7      15       8  97.214286   \n",
       "2       3       49    28    62    52     -21      13       3  97.214286   \n",
       "3       4       64    34    80    67     -30      16       3  97.214286   \n",
       "4       4       74    34    80    67     -40       6      -7  97.214286   \n",
       "5       5       87    40    98    82     -47      11      -5  97.214286   \n",
       "6       6       96    46   116    97     -50      20       1  97.214286   \n",
       "7       6       97    46   116    97     -51      19       0  97.214286   \n",
       "8       7      109    52   134   112     -57      25       3  97.214286   \n",
       "9       8      119    58   152   127     -61      33       8  97.214286   \n",
       "10      9      149    64   170   142     -85      21      -7  97.214286   \n",
       "11      9      145    64   170   142     -81      25      -3  97.214286   \n",
       "12     10      154    70   188   157     -84      34       3  97.214286   \n",
       "13     10      166    70   188   157     -96      22      -9  97.214286   \n",
       "\n",
       "    error_mean  \n",
       "0    74.214286  \n",
       "1    68.214286  \n",
       "2    48.214286  \n",
       "3    33.214286  \n",
       "4    23.214286  \n",
       "5    10.214286  \n",
       "6     1.214286  \n",
       "7     0.214286  \n",
       "8   -11.785714  \n",
       "9   -21.785714  \n",
       "10  -51.785714  \n",
       "11  -47.785714  \n",
       "12  -56.785714  \n",
       "13  -68.785714  "
      ]
     },
     "execution_count": 65,
     "metadata": {},
     "output_type": "execute_result"
    }
   ],
   "source": [
    "computer_data"
   ]
  },
  {
   "cell_type": "code",
   "execution_count": 66,
   "metadata": {},
   "outputs": [
    {
     "data": {
      "text/plain": [
       "1.0150610510858574e-15"
      ]
     },
     "execution_count": 66,
     "metadata": {},
     "output_type": "execute_result"
    }
   ],
   "source": [
    "computer_data[\"error_mean\"].mean()"
   ]
  },
  {
   "cell_type": "code",
   "execution_count": 75,
   "metadata": {},
   "outputs": [],
   "source": [
    "computer_data[\"error3_sq\"] = computer_data[\"error3\"]**2\n",
    "computer_data[\"error_mean_sq\"] = computer_data[\"error_mean\"]**2"
   ]
  },
  {
   "cell_type": "code",
   "execution_count": 76,
   "metadata": {},
   "outputs": [
    {
     "data": {
      "text/html": [
       "<div>\n",
       "<style scoped>\n",
       "    .dataframe tbody tr th:only-of-type {\n",
       "        vertical-align: middle;\n",
       "    }\n",
       "\n",
       "    .dataframe tbody tr th {\n",
       "        vertical-align: top;\n",
       "    }\n",
       "\n",
       "    .dataframe thead th {\n",
       "        text-align: right;\n",
       "    }\n",
       "</style>\n",
       "<table border=\"1\" class=\"dataframe\">\n",
       "  <thead>\n",
       "    <tr style=\"text-align: right;\">\n",
       "      <th></th>\n",
       "      <th>Units</th>\n",
       "      <th>Minutes</th>\n",
       "      <th>est1</th>\n",
       "      <th>est2</th>\n",
       "      <th>est3</th>\n",
       "      <th>error1</th>\n",
       "      <th>error2</th>\n",
       "      <th>error3</th>\n",
       "      <th>mean_est</th>\n",
       "      <th>error_mean</th>\n",
       "      <th>err3_sq</th>\n",
       "      <th>error3_sq</th>\n",
       "      <th>error_mean_sq</th>\n",
       "    </tr>\n",
       "  </thead>\n",
       "  <tbody>\n",
       "    <tr>\n",
       "      <th>0</th>\n",
       "      <td>1</td>\n",
       "      <td>23</td>\n",
       "      <td>16</td>\n",
       "      <td>26</td>\n",
       "      <td>22</td>\n",
       "      <td>-7</td>\n",
       "      <td>3</td>\n",
       "      <td>-1</td>\n",
       "      <td>97.214286</td>\n",
       "      <td>74.214286</td>\n",
       "      <td>1</td>\n",
       "      <td>1</td>\n",
       "      <td>5507.760204</td>\n",
       "    </tr>\n",
       "    <tr>\n",
       "      <th>1</th>\n",
       "      <td>2</td>\n",
       "      <td>29</td>\n",
       "      <td>22</td>\n",
       "      <td>44</td>\n",
       "      <td>37</td>\n",
       "      <td>-7</td>\n",
       "      <td>15</td>\n",
       "      <td>8</td>\n",
       "      <td>97.214286</td>\n",
       "      <td>68.214286</td>\n",
       "      <td>64</td>\n",
       "      <td>64</td>\n",
       "      <td>4653.188776</td>\n",
       "    </tr>\n",
       "    <tr>\n",
       "      <th>2</th>\n",
       "      <td>3</td>\n",
       "      <td>49</td>\n",
       "      <td>28</td>\n",
       "      <td>62</td>\n",
       "      <td>52</td>\n",
       "      <td>-21</td>\n",
       "      <td>13</td>\n",
       "      <td>3</td>\n",
       "      <td>97.214286</td>\n",
       "      <td>48.214286</td>\n",
       "      <td>9</td>\n",
       "      <td>9</td>\n",
       "      <td>2324.617347</td>\n",
       "    </tr>\n",
       "    <tr>\n",
       "      <th>3</th>\n",
       "      <td>4</td>\n",
       "      <td>64</td>\n",
       "      <td>34</td>\n",
       "      <td>80</td>\n",
       "      <td>67</td>\n",
       "      <td>-30</td>\n",
       "      <td>16</td>\n",
       "      <td>3</td>\n",
       "      <td>97.214286</td>\n",
       "      <td>33.214286</td>\n",
       "      <td>9</td>\n",
       "      <td>9</td>\n",
       "      <td>1103.188776</td>\n",
       "    </tr>\n",
       "    <tr>\n",
       "      <th>4</th>\n",
       "      <td>4</td>\n",
       "      <td>74</td>\n",
       "      <td>34</td>\n",
       "      <td>80</td>\n",
       "      <td>67</td>\n",
       "      <td>-40</td>\n",
       "      <td>6</td>\n",
       "      <td>-7</td>\n",
       "      <td>97.214286</td>\n",
       "      <td>23.214286</td>\n",
       "      <td>49</td>\n",
       "      <td>49</td>\n",
       "      <td>538.903061</td>\n",
       "    </tr>\n",
       "    <tr>\n",
       "      <th>5</th>\n",
       "      <td>5</td>\n",
       "      <td>87</td>\n",
       "      <td>40</td>\n",
       "      <td>98</td>\n",
       "      <td>82</td>\n",
       "      <td>-47</td>\n",
       "      <td>11</td>\n",
       "      <td>-5</td>\n",
       "      <td>97.214286</td>\n",
       "      <td>10.214286</td>\n",
       "      <td>25</td>\n",
       "      <td>25</td>\n",
       "      <td>104.331633</td>\n",
       "    </tr>\n",
       "    <tr>\n",
       "      <th>6</th>\n",
       "      <td>6</td>\n",
       "      <td>96</td>\n",
       "      <td>46</td>\n",
       "      <td>116</td>\n",
       "      <td>97</td>\n",
       "      <td>-50</td>\n",
       "      <td>20</td>\n",
       "      <td>1</td>\n",
       "      <td>97.214286</td>\n",
       "      <td>1.214286</td>\n",
       "      <td>1</td>\n",
       "      <td>1</td>\n",
       "      <td>1.474490</td>\n",
       "    </tr>\n",
       "    <tr>\n",
       "      <th>7</th>\n",
       "      <td>6</td>\n",
       "      <td>97</td>\n",
       "      <td>46</td>\n",
       "      <td>116</td>\n",
       "      <td>97</td>\n",
       "      <td>-51</td>\n",
       "      <td>19</td>\n",
       "      <td>0</td>\n",
       "      <td>97.214286</td>\n",
       "      <td>0.214286</td>\n",
       "      <td>0</td>\n",
       "      <td>0</td>\n",
       "      <td>0.045918</td>\n",
       "    </tr>\n",
       "    <tr>\n",
       "      <th>8</th>\n",
       "      <td>7</td>\n",
       "      <td>109</td>\n",
       "      <td>52</td>\n",
       "      <td>134</td>\n",
       "      <td>112</td>\n",
       "      <td>-57</td>\n",
       "      <td>25</td>\n",
       "      <td>3</td>\n",
       "      <td>97.214286</td>\n",
       "      <td>-11.785714</td>\n",
       "      <td>9</td>\n",
       "      <td>9</td>\n",
       "      <td>138.903061</td>\n",
       "    </tr>\n",
       "    <tr>\n",
       "      <th>9</th>\n",
       "      <td>8</td>\n",
       "      <td>119</td>\n",
       "      <td>58</td>\n",
       "      <td>152</td>\n",
       "      <td>127</td>\n",
       "      <td>-61</td>\n",
       "      <td>33</td>\n",
       "      <td>8</td>\n",
       "      <td>97.214286</td>\n",
       "      <td>-21.785714</td>\n",
       "      <td>64</td>\n",
       "      <td>64</td>\n",
       "      <td>474.617347</td>\n",
       "    </tr>\n",
       "    <tr>\n",
       "      <th>10</th>\n",
       "      <td>9</td>\n",
       "      <td>149</td>\n",
       "      <td>64</td>\n",
       "      <td>170</td>\n",
       "      <td>142</td>\n",
       "      <td>-85</td>\n",
       "      <td>21</td>\n",
       "      <td>-7</td>\n",
       "      <td>97.214286</td>\n",
       "      <td>-51.785714</td>\n",
       "      <td>49</td>\n",
       "      <td>49</td>\n",
       "      <td>2681.760204</td>\n",
       "    </tr>\n",
       "    <tr>\n",
       "      <th>11</th>\n",
       "      <td>9</td>\n",
       "      <td>145</td>\n",
       "      <td>64</td>\n",
       "      <td>170</td>\n",
       "      <td>142</td>\n",
       "      <td>-81</td>\n",
       "      <td>25</td>\n",
       "      <td>-3</td>\n",
       "      <td>97.214286</td>\n",
       "      <td>-47.785714</td>\n",
       "      <td>9</td>\n",
       "      <td>9</td>\n",
       "      <td>2283.474490</td>\n",
       "    </tr>\n",
       "    <tr>\n",
       "      <th>12</th>\n",
       "      <td>10</td>\n",
       "      <td>154</td>\n",
       "      <td>70</td>\n",
       "      <td>188</td>\n",
       "      <td>157</td>\n",
       "      <td>-84</td>\n",
       "      <td>34</td>\n",
       "      <td>3</td>\n",
       "      <td>97.214286</td>\n",
       "      <td>-56.785714</td>\n",
       "      <td>9</td>\n",
       "      <td>9</td>\n",
       "      <td>3224.617347</td>\n",
       "    </tr>\n",
       "    <tr>\n",
       "      <th>13</th>\n",
       "      <td>10</td>\n",
       "      <td>166</td>\n",
       "      <td>70</td>\n",
       "      <td>188</td>\n",
       "      <td>157</td>\n",
       "      <td>-96</td>\n",
       "      <td>22</td>\n",
       "      <td>-9</td>\n",
       "      <td>97.214286</td>\n",
       "      <td>-68.785714</td>\n",
       "      <td>81</td>\n",
       "      <td>81</td>\n",
       "      <td>4731.474490</td>\n",
       "    </tr>\n",
       "  </tbody>\n",
       "</table>\n",
       "</div>"
      ],
      "text/plain": [
       "    Units  Minutes  est1  est2  est3  error1  error2  error3   mean_est  \\\n",
       "0       1       23    16    26    22      -7       3      -1  97.214286   \n",
       "1       2       29    22    44    37      -7      15       8  97.214286   \n",
       "2       3       49    28    62    52     -21      13       3  97.214286   \n",
       "3       4       64    34    80    67     -30      16       3  97.214286   \n",
       "4       4       74    34    80    67     -40       6      -7  97.214286   \n",
       "5       5       87    40    98    82     -47      11      -5  97.214286   \n",
       "6       6       96    46   116    97     -50      20       1  97.214286   \n",
       "7       6       97    46   116    97     -51      19       0  97.214286   \n",
       "8       7      109    52   134   112     -57      25       3  97.214286   \n",
       "9       8      119    58   152   127     -61      33       8  97.214286   \n",
       "10      9      149    64   170   142     -85      21      -7  97.214286   \n",
       "11      9      145    64   170   142     -81      25      -3  97.214286   \n",
       "12     10      154    70   188   157     -84      34       3  97.214286   \n",
       "13     10      166    70   188   157     -96      22      -9  97.214286   \n",
       "\n",
       "    error_mean  err3_sq  error3_sq  error_mean_sq  \n",
       "0    74.214286        1          1    5507.760204  \n",
       "1    68.214286       64         64    4653.188776  \n",
       "2    48.214286        9          9    2324.617347  \n",
       "3    33.214286        9          9    1103.188776  \n",
       "4    23.214286       49         49     538.903061  \n",
       "5    10.214286       25         25     104.331633  \n",
       "6     1.214286        1          1       1.474490  \n",
       "7     0.214286        0          0       0.045918  \n",
       "8   -11.785714        9          9     138.903061  \n",
       "9   -21.785714       64         64     474.617347  \n",
       "10  -51.785714       49         49    2681.760204  \n",
       "11  -47.785714        9          9    2283.474490  \n",
       "12  -56.785714        9          9    3224.617347  \n",
       "13  -68.785714       81         81    4731.474490  "
      ]
     },
     "execution_count": 76,
     "metadata": {},
     "output_type": "execute_result"
    }
   ],
   "source": [
    "computer_data"
   ]
  },
  {
   "cell_type": "code",
   "execution_count": 77,
   "metadata": {},
   "outputs": [
    {
     "data": {
      "text/plain": [
       "(379, 27768.357142857145)"
      ]
     },
     "execution_count": 77,
     "metadata": {},
     "output_type": "execute_result"
    }
   ],
   "source": [
    "computer_data[\"error3_sq\"].sum(),computer_data[\"error_mean_sq\"].sum()"
   ]
  },
  {
   "cell_type": "code",
   "execution_count": 78,
   "metadata": {},
   "outputs": [],
   "source": [
    "from sklearn.linear_model import LinearRegression"
   ]
  },
  {
   "cell_type": "code",
   "execution_count": 83,
   "metadata": {},
   "outputs": [],
   "source": [
    "x =computer_data[[\"Units\"]]\n",
    "y = computer_data[[\"Minutes\"]]\n",
    "model = LinearRegression()\n"
   ]
  },
  {
   "cell_type": "code",
   "execution_count": 84,
   "metadata": {},
   "outputs": [
    {
     "data": {
      "text/plain": [
       "LinearRegression(copy_X=True, fit_intercept=True, n_jobs=None,\n",
       "         normalize=False)"
      ]
     },
     "execution_count": 84,
     "metadata": {},
     "output_type": "execute_result"
    }
   ],
   "source": [
    "model.fit(x,y)\n"
   ]
  },
  {
   "cell_type": "code",
   "execution_count": 86,
   "metadata": {},
   "outputs": [
    {
     "data": {
      "text/plain": [
       "(array([[15.50877193]]), array([4.16165414]))"
      ]
     },
     "execution_count": 86,
     "metadata": {},
     "output_type": "execute_result"
    }
   ],
   "source": [
    "model.coef_,model.intercept_#m,c"
   ]
  },
  {
   "cell_type": "code",
   "execution_count": 90,
   "metadata": {},
   "outputs": [],
   "source": [
    "m_best = model.coef_[0][0]\n",
    "c_best = model.intercept_[0]"
   ]
  },
  {
   "cell_type": "code",
   "execution_count": 91,
   "metadata": {},
   "outputs": [],
   "source": [
    "computer_data[\"best_est\"] = m_best*computer_data[\"Units\"] + c_best\n"
   ]
  },
  {
   "cell_type": "code",
   "execution_count": 92,
   "metadata": {},
   "outputs": [
    {
     "data": {
      "text/html": [
       "<div>\n",
       "<style scoped>\n",
       "    .dataframe tbody tr th:only-of-type {\n",
       "        vertical-align: middle;\n",
       "    }\n",
       "\n",
       "    .dataframe tbody tr th {\n",
       "        vertical-align: top;\n",
       "    }\n",
       "\n",
       "    .dataframe thead th {\n",
       "        text-align: right;\n",
       "    }\n",
       "</style>\n",
       "<table border=\"1\" class=\"dataframe\">\n",
       "  <thead>\n",
       "    <tr style=\"text-align: right;\">\n",
       "      <th></th>\n",
       "      <th>Units</th>\n",
       "      <th>Minutes</th>\n",
       "      <th>est1</th>\n",
       "      <th>est2</th>\n",
       "      <th>est3</th>\n",
       "      <th>error1</th>\n",
       "      <th>error2</th>\n",
       "      <th>error3</th>\n",
       "      <th>mean_est</th>\n",
       "      <th>error_mean</th>\n",
       "      <th>err3_sq</th>\n",
       "      <th>error3_sq</th>\n",
       "      <th>error_mean_sq</th>\n",
       "      <th>best_est</th>\n",
       "    </tr>\n",
       "  </thead>\n",
       "  <tbody>\n",
       "    <tr>\n",
       "      <th>0</th>\n",
       "      <td>1</td>\n",
       "      <td>23</td>\n",
       "      <td>16</td>\n",
       "      <td>26</td>\n",
       "      <td>22</td>\n",
       "      <td>-7</td>\n",
       "      <td>3</td>\n",
       "      <td>-1</td>\n",
       "      <td>97.214286</td>\n",
       "      <td>74.214286</td>\n",
       "      <td>1</td>\n",
       "      <td>1</td>\n",
       "      <td>5507.760204</td>\n",
       "      <td>19.670426</td>\n",
       "    </tr>\n",
       "    <tr>\n",
       "      <th>1</th>\n",
       "      <td>2</td>\n",
       "      <td>29</td>\n",
       "      <td>22</td>\n",
       "      <td>44</td>\n",
       "      <td>37</td>\n",
       "      <td>-7</td>\n",
       "      <td>15</td>\n",
       "      <td>8</td>\n",
       "      <td>97.214286</td>\n",
       "      <td>68.214286</td>\n",
       "      <td>64</td>\n",
       "      <td>64</td>\n",
       "      <td>4653.188776</td>\n",
       "      <td>35.179198</td>\n",
       "    </tr>\n",
       "    <tr>\n",
       "      <th>2</th>\n",
       "      <td>3</td>\n",
       "      <td>49</td>\n",
       "      <td>28</td>\n",
       "      <td>62</td>\n",
       "      <td>52</td>\n",
       "      <td>-21</td>\n",
       "      <td>13</td>\n",
       "      <td>3</td>\n",
       "      <td>97.214286</td>\n",
       "      <td>48.214286</td>\n",
       "      <td>9</td>\n",
       "      <td>9</td>\n",
       "      <td>2324.617347</td>\n",
       "      <td>50.687970</td>\n",
       "    </tr>\n",
       "    <tr>\n",
       "      <th>3</th>\n",
       "      <td>4</td>\n",
       "      <td>64</td>\n",
       "      <td>34</td>\n",
       "      <td>80</td>\n",
       "      <td>67</td>\n",
       "      <td>-30</td>\n",
       "      <td>16</td>\n",
       "      <td>3</td>\n",
       "      <td>97.214286</td>\n",
       "      <td>33.214286</td>\n",
       "      <td>9</td>\n",
       "      <td>9</td>\n",
       "      <td>1103.188776</td>\n",
       "      <td>66.196742</td>\n",
       "    </tr>\n",
       "    <tr>\n",
       "      <th>4</th>\n",
       "      <td>4</td>\n",
       "      <td>74</td>\n",
       "      <td>34</td>\n",
       "      <td>80</td>\n",
       "      <td>67</td>\n",
       "      <td>-40</td>\n",
       "      <td>6</td>\n",
       "      <td>-7</td>\n",
       "      <td>97.214286</td>\n",
       "      <td>23.214286</td>\n",
       "      <td>49</td>\n",
       "      <td>49</td>\n",
       "      <td>538.903061</td>\n",
       "      <td>66.196742</td>\n",
       "    </tr>\n",
       "    <tr>\n",
       "      <th>5</th>\n",
       "      <td>5</td>\n",
       "      <td>87</td>\n",
       "      <td>40</td>\n",
       "      <td>98</td>\n",
       "      <td>82</td>\n",
       "      <td>-47</td>\n",
       "      <td>11</td>\n",
       "      <td>-5</td>\n",
       "      <td>97.214286</td>\n",
       "      <td>10.214286</td>\n",
       "      <td>25</td>\n",
       "      <td>25</td>\n",
       "      <td>104.331633</td>\n",
       "      <td>81.705514</td>\n",
       "    </tr>\n",
       "    <tr>\n",
       "      <th>6</th>\n",
       "      <td>6</td>\n",
       "      <td>96</td>\n",
       "      <td>46</td>\n",
       "      <td>116</td>\n",
       "      <td>97</td>\n",
       "      <td>-50</td>\n",
       "      <td>20</td>\n",
       "      <td>1</td>\n",
       "      <td>97.214286</td>\n",
       "      <td>1.214286</td>\n",
       "      <td>1</td>\n",
       "      <td>1</td>\n",
       "      <td>1.474490</td>\n",
       "      <td>97.214286</td>\n",
       "    </tr>\n",
       "    <tr>\n",
       "      <th>7</th>\n",
       "      <td>6</td>\n",
       "      <td>97</td>\n",
       "      <td>46</td>\n",
       "      <td>116</td>\n",
       "      <td>97</td>\n",
       "      <td>-51</td>\n",
       "      <td>19</td>\n",
       "      <td>0</td>\n",
       "      <td>97.214286</td>\n",
       "      <td>0.214286</td>\n",
       "      <td>0</td>\n",
       "      <td>0</td>\n",
       "      <td>0.045918</td>\n",
       "      <td>97.214286</td>\n",
       "    </tr>\n",
       "    <tr>\n",
       "      <th>8</th>\n",
       "      <td>7</td>\n",
       "      <td>109</td>\n",
       "      <td>52</td>\n",
       "      <td>134</td>\n",
       "      <td>112</td>\n",
       "      <td>-57</td>\n",
       "      <td>25</td>\n",
       "      <td>3</td>\n",
       "      <td>97.214286</td>\n",
       "      <td>-11.785714</td>\n",
       "      <td>9</td>\n",
       "      <td>9</td>\n",
       "      <td>138.903061</td>\n",
       "      <td>112.723058</td>\n",
       "    </tr>\n",
       "    <tr>\n",
       "      <th>9</th>\n",
       "      <td>8</td>\n",
       "      <td>119</td>\n",
       "      <td>58</td>\n",
       "      <td>152</td>\n",
       "      <td>127</td>\n",
       "      <td>-61</td>\n",
       "      <td>33</td>\n",
       "      <td>8</td>\n",
       "      <td>97.214286</td>\n",
       "      <td>-21.785714</td>\n",
       "      <td>64</td>\n",
       "      <td>64</td>\n",
       "      <td>474.617347</td>\n",
       "      <td>128.231830</td>\n",
       "    </tr>\n",
       "    <tr>\n",
       "      <th>10</th>\n",
       "      <td>9</td>\n",
       "      <td>149</td>\n",
       "      <td>64</td>\n",
       "      <td>170</td>\n",
       "      <td>142</td>\n",
       "      <td>-85</td>\n",
       "      <td>21</td>\n",
       "      <td>-7</td>\n",
       "      <td>97.214286</td>\n",
       "      <td>-51.785714</td>\n",
       "      <td>49</td>\n",
       "      <td>49</td>\n",
       "      <td>2681.760204</td>\n",
       "      <td>143.740602</td>\n",
       "    </tr>\n",
       "    <tr>\n",
       "      <th>11</th>\n",
       "      <td>9</td>\n",
       "      <td>145</td>\n",
       "      <td>64</td>\n",
       "      <td>170</td>\n",
       "      <td>142</td>\n",
       "      <td>-81</td>\n",
       "      <td>25</td>\n",
       "      <td>-3</td>\n",
       "      <td>97.214286</td>\n",
       "      <td>-47.785714</td>\n",
       "      <td>9</td>\n",
       "      <td>9</td>\n",
       "      <td>2283.474490</td>\n",
       "      <td>143.740602</td>\n",
       "    </tr>\n",
       "    <tr>\n",
       "      <th>12</th>\n",
       "      <td>10</td>\n",
       "      <td>154</td>\n",
       "      <td>70</td>\n",
       "      <td>188</td>\n",
       "      <td>157</td>\n",
       "      <td>-84</td>\n",
       "      <td>34</td>\n",
       "      <td>3</td>\n",
       "      <td>97.214286</td>\n",
       "      <td>-56.785714</td>\n",
       "      <td>9</td>\n",
       "      <td>9</td>\n",
       "      <td>3224.617347</td>\n",
       "      <td>159.249373</td>\n",
       "    </tr>\n",
       "    <tr>\n",
       "      <th>13</th>\n",
       "      <td>10</td>\n",
       "      <td>166</td>\n",
       "      <td>70</td>\n",
       "      <td>188</td>\n",
       "      <td>157</td>\n",
       "      <td>-96</td>\n",
       "      <td>22</td>\n",
       "      <td>-9</td>\n",
       "      <td>97.214286</td>\n",
       "      <td>-68.785714</td>\n",
       "      <td>81</td>\n",
       "      <td>81</td>\n",
       "      <td>4731.474490</td>\n",
       "      <td>159.249373</td>\n",
       "    </tr>\n",
       "  </tbody>\n",
       "</table>\n",
       "</div>"
      ],
      "text/plain": [
       "    Units  Minutes  est1  est2  est3  error1  error2  error3   mean_est  \\\n",
       "0       1       23    16    26    22      -7       3      -1  97.214286   \n",
       "1       2       29    22    44    37      -7      15       8  97.214286   \n",
       "2       3       49    28    62    52     -21      13       3  97.214286   \n",
       "3       4       64    34    80    67     -30      16       3  97.214286   \n",
       "4       4       74    34    80    67     -40       6      -7  97.214286   \n",
       "5       5       87    40    98    82     -47      11      -5  97.214286   \n",
       "6       6       96    46   116    97     -50      20       1  97.214286   \n",
       "7       6       97    46   116    97     -51      19       0  97.214286   \n",
       "8       7      109    52   134   112     -57      25       3  97.214286   \n",
       "9       8      119    58   152   127     -61      33       8  97.214286   \n",
       "10      9      149    64   170   142     -85      21      -7  97.214286   \n",
       "11      9      145    64   170   142     -81      25      -3  97.214286   \n",
       "12     10      154    70   188   157     -84      34       3  97.214286   \n",
       "13     10      166    70   188   157     -96      22      -9  97.214286   \n",
       "\n",
       "    error_mean  err3_sq  error3_sq  error_mean_sq    best_est  \n",
       "0    74.214286        1          1    5507.760204   19.670426  \n",
       "1    68.214286       64         64    4653.188776   35.179198  \n",
       "2    48.214286        9          9    2324.617347   50.687970  \n",
       "3    33.214286        9          9    1103.188776   66.196742  \n",
       "4    23.214286       49         49     538.903061   66.196742  \n",
       "5    10.214286       25         25     104.331633   81.705514  \n",
       "6     1.214286        1          1       1.474490   97.214286  \n",
       "7     0.214286        0          0       0.045918   97.214286  \n",
       "8   -11.785714        9          9     138.903061  112.723058  \n",
       "9   -21.785714       64         64     474.617347  128.231830  \n",
       "10  -51.785714       49         49    2681.760204  143.740602  \n",
       "11  -47.785714        9          9    2283.474490  143.740602  \n",
       "12  -56.785714        9          9    3224.617347  159.249373  \n",
       "13  -68.785714       81         81    4731.474490  159.249373  "
      ]
     },
     "execution_count": 92,
     "metadata": {},
     "output_type": "execute_result"
    }
   ],
   "source": [
    "computer_data"
   ]
  },
  {
   "cell_type": "code",
   "execution_count": 93,
   "metadata": {},
   "outputs": [],
   "source": [
    "computer_data[\"error_best\"] = computer_data[\"best_est\"] - computer_data[\"Minutes\"]"
   ]
  },
  {
   "cell_type": "code",
   "execution_count": 94,
   "metadata": {},
   "outputs": [
    {
     "data": {
      "text/html": [
       "<div>\n",
       "<style scoped>\n",
       "    .dataframe tbody tr th:only-of-type {\n",
       "        vertical-align: middle;\n",
       "    }\n",
       "\n",
       "    .dataframe tbody tr th {\n",
       "        vertical-align: top;\n",
       "    }\n",
       "\n",
       "    .dataframe thead th {\n",
       "        text-align: right;\n",
       "    }\n",
       "</style>\n",
       "<table border=\"1\" class=\"dataframe\">\n",
       "  <thead>\n",
       "    <tr style=\"text-align: right;\">\n",
       "      <th></th>\n",
       "      <th>Units</th>\n",
       "      <th>Minutes</th>\n",
       "      <th>est1</th>\n",
       "      <th>est2</th>\n",
       "      <th>est3</th>\n",
       "      <th>error1</th>\n",
       "      <th>error2</th>\n",
       "      <th>error3</th>\n",
       "      <th>mean_est</th>\n",
       "      <th>error_mean</th>\n",
       "      <th>err3_sq</th>\n",
       "      <th>error3_sq</th>\n",
       "      <th>error_mean_sq</th>\n",
       "      <th>best_est</th>\n",
       "      <th>error_best</th>\n",
       "    </tr>\n",
       "  </thead>\n",
       "  <tbody>\n",
       "    <tr>\n",
       "      <th>0</th>\n",
       "      <td>1</td>\n",
       "      <td>23</td>\n",
       "      <td>16</td>\n",
       "      <td>26</td>\n",
       "      <td>22</td>\n",
       "      <td>-7</td>\n",
       "      <td>3</td>\n",
       "      <td>-1</td>\n",
       "      <td>97.214286</td>\n",
       "      <td>74.214286</td>\n",
       "      <td>1</td>\n",
       "      <td>1</td>\n",
       "      <td>5507.760204</td>\n",
       "      <td>19.670426</td>\n",
       "      <td>-3.329574</td>\n",
       "    </tr>\n",
       "    <tr>\n",
       "      <th>1</th>\n",
       "      <td>2</td>\n",
       "      <td>29</td>\n",
       "      <td>22</td>\n",
       "      <td>44</td>\n",
       "      <td>37</td>\n",
       "      <td>-7</td>\n",
       "      <td>15</td>\n",
       "      <td>8</td>\n",
       "      <td>97.214286</td>\n",
       "      <td>68.214286</td>\n",
       "      <td>64</td>\n",
       "      <td>64</td>\n",
       "      <td>4653.188776</td>\n",
       "      <td>35.179198</td>\n",
       "      <td>6.179198</td>\n",
       "    </tr>\n",
       "    <tr>\n",
       "      <th>2</th>\n",
       "      <td>3</td>\n",
       "      <td>49</td>\n",
       "      <td>28</td>\n",
       "      <td>62</td>\n",
       "      <td>52</td>\n",
       "      <td>-21</td>\n",
       "      <td>13</td>\n",
       "      <td>3</td>\n",
       "      <td>97.214286</td>\n",
       "      <td>48.214286</td>\n",
       "      <td>9</td>\n",
       "      <td>9</td>\n",
       "      <td>2324.617347</td>\n",
       "      <td>50.687970</td>\n",
       "      <td>1.687970</td>\n",
       "    </tr>\n",
       "    <tr>\n",
       "      <th>3</th>\n",
       "      <td>4</td>\n",
       "      <td>64</td>\n",
       "      <td>34</td>\n",
       "      <td>80</td>\n",
       "      <td>67</td>\n",
       "      <td>-30</td>\n",
       "      <td>16</td>\n",
       "      <td>3</td>\n",
       "      <td>97.214286</td>\n",
       "      <td>33.214286</td>\n",
       "      <td>9</td>\n",
       "      <td>9</td>\n",
       "      <td>1103.188776</td>\n",
       "      <td>66.196742</td>\n",
       "      <td>2.196742</td>\n",
       "    </tr>\n",
       "    <tr>\n",
       "      <th>4</th>\n",
       "      <td>4</td>\n",
       "      <td>74</td>\n",
       "      <td>34</td>\n",
       "      <td>80</td>\n",
       "      <td>67</td>\n",
       "      <td>-40</td>\n",
       "      <td>6</td>\n",
       "      <td>-7</td>\n",
       "      <td>97.214286</td>\n",
       "      <td>23.214286</td>\n",
       "      <td>49</td>\n",
       "      <td>49</td>\n",
       "      <td>538.903061</td>\n",
       "      <td>66.196742</td>\n",
       "      <td>-7.803258</td>\n",
       "    </tr>\n",
       "    <tr>\n",
       "      <th>5</th>\n",
       "      <td>5</td>\n",
       "      <td>87</td>\n",
       "      <td>40</td>\n",
       "      <td>98</td>\n",
       "      <td>82</td>\n",
       "      <td>-47</td>\n",
       "      <td>11</td>\n",
       "      <td>-5</td>\n",
       "      <td>97.214286</td>\n",
       "      <td>10.214286</td>\n",
       "      <td>25</td>\n",
       "      <td>25</td>\n",
       "      <td>104.331633</td>\n",
       "      <td>81.705514</td>\n",
       "      <td>-5.294486</td>\n",
       "    </tr>\n",
       "    <tr>\n",
       "      <th>6</th>\n",
       "      <td>6</td>\n",
       "      <td>96</td>\n",
       "      <td>46</td>\n",
       "      <td>116</td>\n",
       "      <td>97</td>\n",
       "      <td>-50</td>\n",
       "      <td>20</td>\n",
       "      <td>1</td>\n",
       "      <td>97.214286</td>\n",
       "      <td>1.214286</td>\n",
       "      <td>1</td>\n",
       "      <td>1</td>\n",
       "      <td>1.474490</td>\n",
       "      <td>97.214286</td>\n",
       "      <td>1.214286</td>\n",
       "    </tr>\n",
       "    <tr>\n",
       "      <th>7</th>\n",
       "      <td>6</td>\n",
       "      <td>97</td>\n",
       "      <td>46</td>\n",
       "      <td>116</td>\n",
       "      <td>97</td>\n",
       "      <td>-51</td>\n",
       "      <td>19</td>\n",
       "      <td>0</td>\n",
       "      <td>97.214286</td>\n",
       "      <td>0.214286</td>\n",
       "      <td>0</td>\n",
       "      <td>0</td>\n",
       "      <td>0.045918</td>\n",
       "      <td>97.214286</td>\n",
       "      <td>0.214286</td>\n",
       "    </tr>\n",
       "    <tr>\n",
       "      <th>8</th>\n",
       "      <td>7</td>\n",
       "      <td>109</td>\n",
       "      <td>52</td>\n",
       "      <td>134</td>\n",
       "      <td>112</td>\n",
       "      <td>-57</td>\n",
       "      <td>25</td>\n",
       "      <td>3</td>\n",
       "      <td>97.214286</td>\n",
       "      <td>-11.785714</td>\n",
       "      <td>9</td>\n",
       "      <td>9</td>\n",
       "      <td>138.903061</td>\n",
       "      <td>112.723058</td>\n",
       "      <td>3.723058</td>\n",
       "    </tr>\n",
       "    <tr>\n",
       "      <th>9</th>\n",
       "      <td>8</td>\n",
       "      <td>119</td>\n",
       "      <td>58</td>\n",
       "      <td>152</td>\n",
       "      <td>127</td>\n",
       "      <td>-61</td>\n",
       "      <td>33</td>\n",
       "      <td>8</td>\n",
       "      <td>97.214286</td>\n",
       "      <td>-21.785714</td>\n",
       "      <td>64</td>\n",
       "      <td>64</td>\n",
       "      <td>474.617347</td>\n",
       "      <td>128.231830</td>\n",
       "      <td>9.231830</td>\n",
       "    </tr>\n",
       "    <tr>\n",
       "      <th>10</th>\n",
       "      <td>9</td>\n",
       "      <td>149</td>\n",
       "      <td>64</td>\n",
       "      <td>170</td>\n",
       "      <td>142</td>\n",
       "      <td>-85</td>\n",
       "      <td>21</td>\n",
       "      <td>-7</td>\n",
       "      <td>97.214286</td>\n",
       "      <td>-51.785714</td>\n",
       "      <td>49</td>\n",
       "      <td>49</td>\n",
       "      <td>2681.760204</td>\n",
       "      <td>143.740602</td>\n",
       "      <td>-5.259398</td>\n",
       "    </tr>\n",
       "    <tr>\n",
       "      <th>11</th>\n",
       "      <td>9</td>\n",
       "      <td>145</td>\n",
       "      <td>64</td>\n",
       "      <td>170</td>\n",
       "      <td>142</td>\n",
       "      <td>-81</td>\n",
       "      <td>25</td>\n",
       "      <td>-3</td>\n",
       "      <td>97.214286</td>\n",
       "      <td>-47.785714</td>\n",
       "      <td>9</td>\n",
       "      <td>9</td>\n",
       "      <td>2283.474490</td>\n",
       "      <td>143.740602</td>\n",
       "      <td>-1.259398</td>\n",
       "    </tr>\n",
       "    <tr>\n",
       "      <th>12</th>\n",
       "      <td>10</td>\n",
       "      <td>154</td>\n",
       "      <td>70</td>\n",
       "      <td>188</td>\n",
       "      <td>157</td>\n",
       "      <td>-84</td>\n",
       "      <td>34</td>\n",
       "      <td>3</td>\n",
       "      <td>97.214286</td>\n",
       "      <td>-56.785714</td>\n",
       "      <td>9</td>\n",
       "      <td>9</td>\n",
       "      <td>3224.617347</td>\n",
       "      <td>159.249373</td>\n",
       "      <td>5.249373</td>\n",
       "    </tr>\n",
       "    <tr>\n",
       "      <th>13</th>\n",
       "      <td>10</td>\n",
       "      <td>166</td>\n",
       "      <td>70</td>\n",
       "      <td>188</td>\n",
       "      <td>157</td>\n",
       "      <td>-96</td>\n",
       "      <td>22</td>\n",
       "      <td>-9</td>\n",
       "      <td>97.214286</td>\n",
       "      <td>-68.785714</td>\n",
       "      <td>81</td>\n",
       "      <td>81</td>\n",
       "      <td>4731.474490</td>\n",
       "      <td>159.249373</td>\n",
       "      <td>-6.750627</td>\n",
       "    </tr>\n",
       "  </tbody>\n",
       "</table>\n",
       "</div>"
      ],
      "text/plain": [
       "    Units  Minutes  est1  est2  est3  error1  error2  error3   mean_est  \\\n",
       "0       1       23    16    26    22      -7       3      -1  97.214286   \n",
       "1       2       29    22    44    37      -7      15       8  97.214286   \n",
       "2       3       49    28    62    52     -21      13       3  97.214286   \n",
       "3       4       64    34    80    67     -30      16       3  97.214286   \n",
       "4       4       74    34    80    67     -40       6      -7  97.214286   \n",
       "5       5       87    40    98    82     -47      11      -5  97.214286   \n",
       "6       6       96    46   116    97     -50      20       1  97.214286   \n",
       "7       6       97    46   116    97     -51      19       0  97.214286   \n",
       "8       7      109    52   134   112     -57      25       3  97.214286   \n",
       "9       8      119    58   152   127     -61      33       8  97.214286   \n",
       "10      9      149    64   170   142     -85      21      -7  97.214286   \n",
       "11      9      145    64   170   142     -81      25      -3  97.214286   \n",
       "12     10      154    70   188   157     -84      34       3  97.214286   \n",
       "13     10      166    70   188   157     -96      22      -9  97.214286   \n",
       "\n",
       "    error_mean  err3_sq  error3_sq  error_mean_sq    best_est  error_best  \n",
       "0    74.214286        1          1    5507.760204   19.670426   -3.329574  \n",
       "1    68.214286       64         64    4653.188776   35.179198    6.179198  \n",
       "2    48.214286        9          9    2324.617347   50.687970    1.687970  \n",
       "3    33.214286        9          9    1103.188776   66.196742    2.196742  \n",
       "4    23.214286       49         49     538.903061   66.196742   -7.803258  \n",
       "5    10.214286       25         25     104.331633   81.705514   -5.294486  \n",
       "6     1.214286        1          1       1.474490   97.214286    1.214286  \n",
       "7     0.214286        0          0       0.045918   97.214286    0.214286  \n",
       "8   -11.785714        9          9     138.903061  112.723058    3.723058  \n",
       "9   -21.785714       64         64     474.617347  128.231830    9.231830  \n",
       "10  -51.785714       49         49    2681.760204  143.740602   -5.259398  \n",
       "11  -47.785714        9          9    2283.474490  143.740602   -1.259398  \n",
       "12  -56.785714        9          9    3224.617347  159.249373    5.249373  \n",
       "13  -68.785714       81         81    4731.474490  159.249373   -6.750627  "
      ]
     },
     "execution_count": 94,
     "metadata": {},
     "output_type": "execute_result"
    }
   ],
   "source": [
    "computer_data"
   ]
  },
  {
   "cell_type": "code",
   "execution_count": 96,
   "metadata": {},
   "outputs": [
    {
     "data": {
      "text/plain": [
       "348.84837092731783"
      ]
     },
     "execution_count": 96,
     "metadata": {},
     "output_type": "execute_result"
    }
   ],
   "source": [
    "(computer_data[\"error_best\"]**2).sum()"
   ]
  },
  {
   "cell_type": "code",
   "execution_count": 98,
   "metadata": {},
   "outputs": [
    {
     "data": {
      "text/plain": [
       "379"
      ]
     },
     "execution_count": 98,
     "metadata": {},
     "output_type": "execute_result"
    }
   ],
   "source": [
    "(computer_data[\"error3_sq\"]).sum()"
   ]
  },
  {
   "cell_type": "code",
   "execution_count": 99,
   "metadata": {},
   "outputs": [
    {
     "data": {
      "text/plain": [
       "27768.357142857145"
      ]
     },
     "execution_count": 99,
     "metadata": {},
     "output_type": "execute_result"
    }
   ],
   "source": [
    "(computer_data[\"error_best\"]**2).sum()"
   ]
  },
  {
   "cell_type": "code",
   "execution_count": 103,
   "metadata": {},
   "outputs": [
    {
     "data": {
      "text/plain": [
       "0.01256280193792639"
      ]
     },
     "execution_count": 103,
     "metadata": {},
     "output_type": "execute_result"
    }
   ],
   "source": [
    "(computer_data[\"error_best\"]**2).sum()/(computer_data[\"error_mean_sq\"]).sum()"
   ]
  },
  {
   "cell_type": "code",
   "execution_count": 105,
   "metadata": {},
   "outputs": [
    {
     "data": {
      "text/plain": [
       "0.01256280193792639"
      ]
     },
     "execution_count": 105,
     "metadata": {},
     "output_type": "execute_result"
    }
   ],
   "source": [
    "SST  = (computer_data[\"error_mean_sq\"]).sum()\n",
    "SSE = (computer_data[\"error_best\"]**2).sum()\n",
    "SSE/SST"
   ]
  },
  {
   "cell_type": "code",
   "execution_count": 106,
   "metadata": {},
   "outputs": [
    {
     "data": {
      "text/plain": [
       "0.9874371980620736"
      ]
     },
     "execution_count": 106,
     "metadata": {},
     "output_type": "execute_result"
    }
   ],
   "source": [
    "1-(SSE/SST)"
   ]
  },
  {
   "cell_type": "code",
   "execution_count": 107,
   "metadata": {},
   "outputs": [
    {
     "data": {
      "text/plain": [
       "0.9874371980620733"
      ]
     },
     "execution_count": 107,
     "metadata": {},
     "output_type": "execute_result"
    }
   ],
   "source": [
    "(computer_data[[\"Units\",\"Minutes\"]].corr().iloc[1][0])**2"
   ]
  },
  {
   "cell_type": "code",
   "execution_count": 108,
   "metadata": {},
   "outputs": [],
   "source": [
    "Rsq = 1 - (SSE/SST)\n",
    "# Tells how much reduction in error has been achived\n",
    "# because of using  he model"
   ]
  },
  {
   "cell_type": "code",
   "execution_count": 121,
   "metadata": {},
   "outputs": [
    {
     "data": {
      "text/plain": [
       "array([[159.24937343]])"
      ]
     },
     "execution_count": 121,
     "metadata": {},
     "output_type": "execute_result"
    }
   ],
   "source": [
    "model.predict([[10]])"
   ]
  },
  {
   "cell_type": "code",
   "execution_count": null,
   "metadata": {},
   "outputs": [],
   "source": []
  }
 ],
 "metadata": {
  "kernelspec": {
   "display_name": "Python 3",
   "language": "python",
   "name": "python3"
  },
  "language_info": {
   "codemirror_mode": {
    "name": "ipython",
    "version": 3
   },
   "file_extension": ".py",
   "mimetype": "text/x-python",
   "name": "python",
   "nbconvert_exporter": "python",
   "pygments_lexer": "ipython3",
   "version": "3.7.1"
  }
 },
 "nbformat": 4,
 "nbformat_minor": 2
}
