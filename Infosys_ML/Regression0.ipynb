{
 "cells": [
  {
   "cell_type": "markdown",
   "metadata": {},
   "source": [
    "## Importing Module"
   ]
  },
  {
   "cell_type": "code",
   "execution_count": 1,
   "metadata": {},
   "outputs": [],
   "source": [
    "import pandas as pd\n",
    "import matplotlib.pyplot as plt"
   ]
  },
  {
   "cell_type": "code",
   "execution_count": 2,
   "metadata": {},
   "outputs": [],
   "source": [
    "computers_data = pd.read_csv(\"C:\\\\Users\\\\satish.TRN\\\\WorkSpace2\\\\MachineLearning\\\\DataSets\\\\computers.csv\")"
   ]
  },
  {
   "cell_type": "code",
   "execution_count": 3,
   "metadata": {},
   "outputs": [
    {
     "data": {
      "text/html": [
       "<div>\n",
       "<style scoped>\n",
       "    .dataframe tbody tr th:only-of-type {\n",
       "        vertical-align: middle;\n",
       "    }\n",
       "\n",
       "    .dataframe tbody tr th {\n",
       "        vertical-align: top;\n",
       "    }\n",
       "\n",
       "    .dataframe thead th {\n",
       "        text-align: right;\n",
       "    }\n",
       "</style>\n",
       "<table border=\"1\" class=\"dataframe\">\n",
       "  <thead>\n",
       "    <tr style=\"text-align: right;\">\n",
       "      <th></th>\n",
       "      <th>Units</th>\n",
       "      <th>Minutes</th>\n",
       "    </tr>\n",
       "  </thead>\n",
       "  <tbody>\n",
       "    <tr>\n",
       "      <th>0</th>\n",
       "      <td>1</td>\n",
       "      <td>23</td>\n",
       "    </tr>\n",
       "    <tr>\n",
       "      <th>1</th>\n",
       "      <td>2</td>\n",
       "      <td>29</td>\n",
       "    </tr>\n",
       "    <tr>\n",
       "      <th>2</th>\n",
       "      <td>3</td>\n",
       "      <td>49</td>\n",
       "    </tr>\n",
       "    <tr>\n",
       "      <th>3</th>\n",
       "      <td>4</td>\n",
       "      <td>64</td>\n",
       "    </tr>\n",
       "    <tr>\n",
       "      <th>4</th>\n",
       "      <td>4</td>\n",
       "      <td>74</td>\n",
       "    </tr>\n",
       "  </tbody>\n",
       "</table>\n",
       "</div>"
      ],
      "text/plain": [
       "   Units  Minutes\n",
       "0      1       23\n",
       "1      2       29\n",
       "2      3       49\n",
       "3      4       64\n",
       "4      4       74"
      ]
     },
     "execution_count": 3,
     "metadata": {},
     "output_type": "execute_result"
    }
   ],
   "source": [
    "computers_data.head()"
   ]
  },
  {
   "cell_type": "markdown",
   "metadata": {},
   "source": [
    "## Units indicates the number of faulty components in a  computer.\n",
    "## Minutes indicates the time taken to replace those components."
   ]
  },
  {
   "cell_type": "markdown",
   "metadata": {},
   "source": [
    "Outlier are either less than Q1 - 1.5IQR or greater than Q3 + 1.5IQR where IQR = Q3 - Q1"
   ]
  },
  {
   "cell_type": "code",
   "execution_count": 4,
   "metadata": {},
   "outputs": [
    {
     "data": {
      "text/html": [
       "<div>\n",
       "<style scoped>\n",
       "    .dataframe tbody tr th:only-of-type {\n",
       "        vertical-align: middle;\n",
       "    }\n",
       "\n",
       "    .dataframe tbody tr th {\n",
       "        vertical-align: top;\n",
       "    }\n",
       "\n",
       "    .dataframe thead th {\n",
       "        text-align: right;\n",
       "    }\n",
       "</style>\n",
       "<table border=\"1\" class=\"dataframe\">\n",
       "  <thead>\n",
       "    <tr style=\"text-align: right;\">\n",
       "      <th></th>\n",
       "      <th>Units</th>\n",
       "      <th>Minutes</th>\n",
       "    </tr>\n",
       "  </thead>\n",
       "  <tbody>\n",
       "    <tr>\n",
       "      <th>count</th>\n",
       "      <td>14.000000</td>\n",
       "      <td>14.000000</td>\n",
       "    </tr>\n",
       "    <tr>\n",
       "      <th>mean</th>\n",
       "      <td>6.000000</td>\n",
       "      <td>97.214286</td>\n",
       "    </tr>\n",
       "    <tr>\n",
       "      <th>std</th>\n",
       "      <td>2.961289</td>\n",
       "      <td>46.217177</td>\n",
       "    </tr>\n",
       "    <tr>\n",
       "      <th>min</th>\n",
       "      <td>1.000000</td>\n",
       "      <td>23.000000</td>\n",
       "    </tr>\n",
       "    <tr>\n",
       "      <th>25%</th>\n",
       "      <td>4.000000</td>\n",
       "      <td>66.500000</td>\n",
       "    </tr>\n",
       "    <tr>\n",
       "      <th>50%</th>\n",
       "      <td>6.000000</td>\n",
       "      <td>96.500000</td>\n",
       "    </tr>\n",
       "    <tr>\n",
       "      <th>75%</th>\n",
       "      <td>8.750000</td>\n",
       "      <td>138.500000</td>\n",
       "    </tr>\n",
       "    <tr>\n",
       "      <th>max</th>\n",
       "      <td>10.000000</td>\n",
       "      <td>166.000000</td>\n",
       "    </tr>\n",
       "  </tbody>\n",
       "</table>\n",
       "</div>"
      ],
      "text/plain": [
       "           Units     Minutes\n",
       "count  14.000000   14.000000\n",
       "mean    6.000000   97.214286\n",
       "std     2.961289   46.217177\n",
       "min     1.000000   23.000000\n",
       "25%     4.000000   66.500000\n",
       "50%     6.000000   96.500000\n",
       "75%     8.750000  138.500000\n",
       "max    10.000000  166.000000"
      ]
     },
     "execution_count": 4,
     "metadata": {},
     "output_type": "execute_result"
    }
   ],
   "source": [
    "computers_data.describe()"
   ]
  },
  {
   "cell_type": "markdown",
   "metadata": {},
   "source": [
    "Median of Minutes = 96.5, Mean of Minutes = 97.21\n",
    "\n",
    "Imagine data didn't have units"
   ]
  },
  {
   "cell_type": "code",
   "execution_count": 5,
   "metadata": {},
   "outputs": [
    {
     "data": {
      "text/plain": [
       "<matplotlib.axes._subplots.AxesSubplot at 0x1d728935eb8>"
      ]
     },
     "execution_count": 5,
     "metadata": {},
     "output_type": "execute_result"
    },
    {
     "data": {
      "image/png": "[encoded data removed]",
      "text/plain": [
       "<Figure size 432x288 with 1 Axes>"
      ]
     },
     "metadata": {
      "needs_background": "light"
     },
     "output_type": "display_data"
    }
   ],
   "source": [
    "computers_data.plot(\"Minutes\")"
   ]
  },
  {
   "cell_type": "code",
   "execution_count": 6,
   "metadata": {},
   "outputs": [],
   "source": [
    "# 3 estimates\n",
    "est1 = 10\n",
    "est2 = 97.21\n",
    "est3 = 150"
   ]
  },
  {
   "cell_type": "code",
   "execution_count": 7,
   "metadata": {},
   "outputs": [
    {
     "data": {
      "text/plain": [
       "-87.21428571428571"
      ]
     },
     "execution_count": 7,
     "metadata": {},
     "output_type": "execute_result"
    }
   ],
   "source": [
    "# what is the quality metric that can say which estimate is better ?\n",
    "# Difference between estimated time original time 'Calculating Variance'\n",
    "(est1 - computers_data.Minutes).mean()"
   ]
  },
  {
   "cell_type": "code",
   "execution_count": 8,
   "metadata": {},
   "outputs": [
    {
     "data": {
      "text/plain": [
       "-0.004285714285727644"
      ]
     },
     "execution_count": 8,
     "metadata": {},
     "output_type": "execute_result"
    }
   ],
   "source": [
    "(est2 - computers_data.Minutes).mean()"
   ]
  },
  {
   "cell_type": "code",
   "execution_count": 9,
   "metadata": {},
   "outputs": [
    {
     "data": {
      "text/plain": [
       "52.785714285714285"
      ]
     },
     "execution_count": 9,
     "metadata": {},
     "output_type": "execute_result"
    }
   ],
   "source": [
    "(est3 - computers_data.Minutes).mean()"
   ]
  },
  {
   "cell_type": "markdown",
   "metadata": {},
   "source": [
    "Best estimate in the absence of other information - mean"
   ]
  },
  {
   "cell_type": "code",
   "execution_count": 10,
   "metadata": {},
   "outputs": [],
   "source": [
    "# New quality metric based on the mean model"
   ]
  },
  {
   "cell_type": "code",
   "execution_count": 11,
   "metadata": {},
   "outputs": [
    {
     "data": {
      "text/plain": [
       "Text(0.5, 1.0, 'Co-Variance')"
      ]
     },
     "execution_count": 11,
     "metadata": {},
     "output_type": "execute_result"
    },
    {
     "data": {
      "image/png": "[encoded data removed]",
      "text/plain": [
       "<Figure size 432x288 with 1 Axes>"
      ]
     },
     "metadata": {
      "needs_background": "light"
     },
     "output_type": "display_data"
    }
   ],
   "source": [
    "plt.scatter(computers_data.Units,computers_data.Minutes)\n",
    "plt.xlabel('Units')\n",
    "plt.ylabel('Minutes')\n",
    "plt.title('Co-Variance')"
   ]
  },
  {
   "cell_type": "code",
   "execution_count": 12,
   "metadata": {},
   "outputs": [
    {
     "data": {
      "text/html": [
       "<div>\n",
       "<style scoped>\n",
       "    .dataframe tbody tr th:only-of-type {\n",
       "        vertical-align: middle;\n",
       "    }\n",
       "\n",
       "    .dataframe tbody tr th {\n",
       "        vertical-align: top;\n",
       "    }\n",
       "\n",
       "    .dataframe thead th {\n",
       "        text-align: right;\n",
       "    }\n",
       "</style>\n",
       "<table border=\"1\" class=\"dataframe\">\n",
       "  <thead>\n",
       "    <tr style=\"text-align: right;\">\n",
       "      <th></th>\n",
       "      <th>Units</th>\n",
       "      <th>Minutes</th>\n",
       "    </tr>\n",
       "  </thead>\n",
       "  <tbody>\n",
       "    <tr>\n",
       "      <th>Units</th>\n",
       "      <td>1.000000</td>\n",
       "      <td>0.993699</td>\n",
       "    </tr>\n",
       "    <tr>\n",
       "      <th>Minutes</th>\n",
       "      <td>0.993699</td>\n",
       "      <td>1.000000</td>\n",
       "    </tr>\n",
       "  </tbody>\n",
       "</table>\n",
       "</div>"
      ],
      "text/plain": [
       "            Units   Minutes\n",
       "Units    1.000000  0.993699\n",
       "Minutes  0.993699  1.000000"
      ]
     },
     "execution_count": 12,
     "metadata": {},
     "output_type": "execute_result"
    }
   ],
   "source": [
    "computers_data.corr()"
   ]
  },
  {
   "cell_type": "code",
   "execution_count": 13,
   "metadata": {},
   "outputs": [],
   "source": [
    "import random\n",
    "import numpy as np"
   ]
  },
  {
   "cell_type": "code",
   "execution_count": 14,
   "metadata": {},
   "outputs": [],
   "source": [
    "r1 = np.random.randn(2,4).ravel()\n",
    "r2 = np.random.randn(2,4).ravel()"
   ]
  },
  {
   "cell_type": "code",
   "execution_count": 15,
   "metadata": {},
   "outputs": [
    {
     "data": {
      "text/plain": [
       "array([ 0.14456869,  0.17365274, -1.1904657 , -0.9658335 ,  0.02887179,\n",
       "       -1.07731668, -1.15819382, -0.00935392])"
      ]
     },
     "execution_count": 15,
     "metadata": {},
     "output_type": "execute_result"
    }
   ],
   "source": [
    "r1"
   ]
  },
  {
   "cell_type": "code",
   "execution_count": 16,
   "metadata": {},
   "outputs": [
    {
     "data": {
      "text/plain": [
       "array([ 2.21583418,  0.47467646, -0.51116946,  1.52371219,  0.030997  ,\n",
       "       -0.12640504,  0.13847915, -0.60733734])"
      ]
     },
     "execution_count": 16,
     "metadata": {},
     "output_type": "execute_result"
    }
   ],
   "source": [
    "r2"
   ]
  },
  {
   "cell_type": "code",
   "execution_count": 17,
   "metadata": {},
   "outputs": [
    {
     "data": {
      "text/plain": [
       "<matplotlib.collections.PathCollection at 0x1d728d5e358>"
      ]
     },
     "execution_count": 17,
     "metadata": {},
     "output_type": "execute_result"
    },
    {
     "data": {
      "image/png": "[encoded data removed]",
      "text/plain": [
       "<Figure size 432x288 with 1 Axes>"
      ]
     },
     "metadata": {
      "needs_background": "light"
     },
     "output_type": "display_data"
    }
   ],
   "source": [
    "plt.scatter(r1,r2)"
   ]
  },
  {
   "cell_type": "code",
   "execution_count": 18,
   "metadata": {},
   "outputs": [
    {
     "data": {
      "text/plain": [
       "array([[1.        , 0.25106841],\n",
       "       [0.25106841, 1.        ]])"
      ]
     },
     "execution_count": 18,
     "metadata": {},
     "output_type": "execute_result"
    }
   ],
   "source": [
    "np.corrcoef(r1,r2)"
   ]
  },
  {
   "cell_type": "code",
   "execution_count": 19,
   "metadata": {},
   "outputs": [],
   "source": [
    "a = np.array([i for i in range(-100,100)])\n",
    "b = 100*a*a"
   ]
  },
  {
   "cell_type": "code",
   "execution_count": 20,
   "metadata": {},
   "outputs": [
    {
     "data": {
      "text/plain": [
       "<matplotlib.collections.PathCollection at 0x1d7291c0e10>"
      ]
     },
     "execution_count": 20,
     "metadata": {},
     "output_type": "execute_result"
    },
    {
     "data": {
      "image/png": "[encoded data removed]",
      "text/plain": [
       "<Figure size 432x288 with 1 Axes>"
      ]
     },
     "metadata": {
      "needs_background": "light"
     },
     "output_type": "display_data"
    }
   ],
   "source": [
    "plt.scatter(a,b)"
   ]
  },
  {
   "cell_type": "code",
   "execution_count": 21,
   "metadata": {},
   "outputs": [
    {
     "data": {
      "text/plain": [
       "array([[ 1.        , -0.01936225],\n",
       "       [-0.01936225,  1.        ]])"
      ]
     },
     "execution_count": 21,
     "metadata": {},
     "output_type": "execute_result"
    }
   ],
   "source": [
    "np.corrcoef(a,b)"
   ]
  },
  {
   "cell_type": "code",
   "execution_count": 23,
   "metadata": {},
   "outputs": [],
   "source": [
    "# est_minutes = m * Units + C\n",
    "m1,m2,m3 = 6,18,15\n",
    "c1,c2,c3 = 10,8,7"
   ]
  },
  {
   "cell_type": "code",
   "execution_count": 24,
   "metadata": {},
   "outputs": [],
   "source": [
    "computers_data['est1'] = m1*computers_data.Units + c1\n",
    "computers_data['est2'] = m2*computers_data.Units + c2\n",
    "computers_data['est3'] = m3*computers_data.Units + c3"
   ]
  },
  {
   "cell_type": "code",
   "execution_count": 26,
   "metadata": {},
   "outputs": [
    {
     "data": {
      "text/html": [
       "<div>\n",
       "<style scoped>\n",
       "    .dataframe tbody tr th:only-of-type {\n",
       "        vertical-align: middle;\n",
       "    }\n",
       "\n",
       "    .dataframe tbody tr th {\n",
       "        vertical-align: top;\n",
       "    }\n",
       "\n",
       "    .dataframe thead th {\n",
       "        text-align: right;\n",
       "    }\n",
       "</style>\n",
       "<table border=\"1\" class=\"dataframe\">\n",
       "  <thead>\n",
       "    <tr style=\"text-align: right;\">\n",
       "      <th></th>\n",
       "      <th>Units</th>\n",
       "      <th>Minutes</th>\n",
       "      <th>est1</th>\n",
       "      <th>est2</th>\n",
       "      <th>est3</th>\n",
       "    </tr>\n",
       "  </thead>\n",
       "  <tbody>\n",
       "    <tr>\n",
       "      <th>0</th>\n",
       "      <td>1</td>\n",
       "      <td>23</td>\n",
       "      <td>16</td>\n",
       "      <td>26</td>\n",
       "      <td>22</td>\n",
       "    </tr>\n",
       "    <tr>\n",
       "      <th>1</th>\n",
       "      <td>2</td>\n",
       "      <td>29</td>\n",
       "      <td>22</td>\n",
       "      <td>44</td>\n",
       "      <td>37</td>\n",
       "    </tr>\n",
       "    <tr>\n",
       "      <th>2</th>\n",
       "      <td>3</td>\n",
       "      <td>49</td>\n",
       "      <td>28</td>\n",
       "      <td>62</td>\n",
       "      <td>52</td>\n",
       "    </tr>\n",
       "    <tr>\n",
       "      <th>3</th>\n",
       "      <td>4</td>\n",
       "      <td>64</td>\n",
       "      <td>34</td>\n",
       "      <td>80</td>\n",
       "      <td>67</td>\n",
       "    </tr>\n",
       "    <tr>\n",
       "      <th>4</th>\n",
       "      <td>4</td>\n",
       "      <td>74</td>\n",
       "      <td>34</td>\n",
       "      <td>80</td>\n",
       "      <td>67</td>\n",
       "    </tr>\n",
       "    <tr>\n",
       "      <th>5</th>\n",
       "      <td>5</td>\n",
       "      <td>87</td>\n",
       "      <td>40</td>\n",
       "      <td>98</td>\n",
       "      <td>82</td>\n",
       "    </tr>\n",
       "    <tr>\n",
       "      <th>6</th>\n",
       "      <td>6</td>\n",
       "      <td>96</td>\n",
       "      <td>46</td>\n",
       "      <td>116</td>\n",
       "      <td>97</td>\n",
       "    </tr>\n",
       "    <tr>\n",
       "      <th>7</th>\n",
       "      <td>6</td>\n",
       "      <td>97</td>\n",
       "      <td>46</td>\n",
       "      <td>116</td>\n",
       "      <td>97</td>\n",
       "    </tr>\n",
       "    <tr>\n",
       "      <th>8</th>\n",
       "      <td>7</td>\n",
       "      <td>109</td>\n",
       "      <td>52</td>\n",
       "      <td>134</td>\n",
       "      <td>112</td>\n",
       "    </tr>\n",
       "    <tr>\n",
       "      <th>9</th>\n",
       "      <td>8</td>\n",
       "      <td>119</td>\n",
       "      <td>58</td>\n",
       "      <td>152</td>\n",
       "      <td>127</td>\n",
       "    </tr>\n",
       "    <tr>\n",
       "      <th>10</th>\n",
       "      <td>9</td>\n",
       "      <td>149</td>\n",
       "      <td>64</td>\n",
       "      <td>170</td>\n",
       "      <td>142</td>\n",
       "    </tr>\n",
       "    <tr>\n",
       "      <th>11</th>\n",
       "      <td>9</td>\n",
       "      <td>145</td>\n",
       "      <td>64</td>\n",
       "      <td>170</td>\n",
       "      <td>142</td>\n",
       "    </tr>\n",
       "    <tr>\n",
       "      <th>12</th>\n",
       "      <td>10</td>\n",
       "      <td>154</td>\n",
       "      <td>70</td>\n",
       "      <td>188</td>\n",
       "      <td>157</td>\n",
       "    </tr>\n",
       "    <tr>\n",
       "      <th>13</th>\n",
       "      <td>10</td>\n",
       "      <td>166</td>\n",
       "      <td>70</td>\n",
       "      <td>188</td>\n",
       "      <td>157</td>\n",
       "    </tr>\n",
       "  </tbody>\n",
       "</table>\n",
       "</div>"
      ],
      "text/plain": [
       "    Units  Minutes  est1  est2  est3\n",
       "0       1       23    16    26    22\n",
       "1       2       29    22    44    37\n",
       "2       3       49    28    62    52\n",
       "3       4       64    34    80    67\n",
       "4       4       74    34    80    67\n",
       "5       5       87    40    98    82\n",
       "6       6       96    46   116    97\n",
       "7       6       97    46   116    97\n",
       "8       7      109    52   134   112\n",
       "9       8      119    58   152   127\n",
       "10      9      149    64   170   142\n",
       "11      9      145    64   170   142\n",
       "12     10      154    70   188   157\n",
       "13     10      166    70   188   157"
      ]
     },
     "execution_count": 26,
     "metadata": {},
     "output_type": "execute_result"
    }
   ],
   "source": [
    "computers_data"
   ]
  },
  {
   "cell_type": "code",
   "execution_count": 27,
   "metadata": {},
   "outputs": [],
   "source": [
    "# Error = estData - actualData\n",
    "computers_data['error1'] = computers_data.est1 - computers_data.Minutes\n",
    "computers_data['error2'] = computers_data.est2 - computers_data.Minutes\n",
    "computers_data['error3'] = computers_data.est3 - computers_data.Minutes"
   ]
  },
  {
   "cell_type": "code",
   "execution_count": 28,
   "metadata": {},
   "outputs": [
    {
     "data": {
      "text/html": [
       "<div>\n",
       "<style scoped>\n",
       "    .dataframe tbody tr th:only-of-type {\n",
       "        vertical-align: middle;\n",
       "    }\n",
       "\n",
       "    .dataframe tbody tr th {\n",
       "        vertical-align: top;\n",
       "    }\n",
       "\n",
       "    .dataframe thead th {\n",
       "        text-align: right;\n",
       "    }\n",
       "</style>\n",
       "<table border=\"1\" class=\"dataframe\">\n",
       "  <thead>\n",
       "    <tr style=\"text-align: right;\">\n",
       "      <th></th>\n",
       "      <th>Units</th>\n",
       "      <th>Minutes</th>\n",
       "      <th>est1</th>\n",
       "      <th>est2</th>\n",
       "      <th>est3</th>\n",
       "      <th>error1</th>\n",
       "      <th>error2</th>\n",
       "      <th>error3</th>\n",
       "    </tr>\n",
       "  </thead>\n",
       "  <tbody>\n",
       "    <tr>\n",
       "      <th>0</th>\n",
       "      <td>1</td>\n",
       "      <td>23</td>\n",
       "      <td>16</td>\n",
       "      <td>26</td>\n",
       "      <td>22</td>\n",
       "      <td>-7</td>\n",
       "      <td>3</td>\n",
       "      <td>-1</td>\n",
       "    </tr>\n",
       "    <tr>\n",
       "      <th>1</th>\n",
       "      <td>2</td>\n",
       "      <td>29</td>\n",
       "      <td>22</td>\n",
       "      <td>44</td>\n",
       "      <td>37</td>\n",
       "      <td>-7</td>\n",
       "      <td>15</td>\n",
       "      <td>8</td>\n",
       "    </tr>\n",
       "    <tr>\n",
       "      <th>2</th>\n",
       "      <td>3</td>\n",
       "      <td>49</td>\n",
       "      <td>28</td>\n",
       "      <td>62</td>\n",
       "      <td>52</td>\n",
       "      <td>-21</td>\n",
       "      <td>13</td>\n",
       "      <td>3</td>\n",
       "    </tr>\n",
       "    <tr>\n",
       "      <th>3</th>\n",
       "      <td>4</td>\n",
       "      <td>64</td>\n",
       "      <td>34</td>\n",
       "      <td>80</td>\n",
       "      <td>67</td>\n",
       "      <td>-30</td>\n",
       "      <td>16</td>\n",
       "      <td>3</td>\n",
       "    </tr>\n",
       "    <tr>\n",
       "      <th>4</th>\n",
       "      <td>4</td>\n",
       "      <td>74</td>\n",
       "      <td>34</td>\n",
       "      <td>80</td>\n",
       "      <td>67</td>\n",
       "      <td>-40</td>\n",
       "      <td>6</td>\n",
       "      <td>-7</td>\n",
       "    </tr>\n",
       "    <tr>\n",
       "      <th>5</th>\n",
       "      <td>5</td>\n",
       "      <td>87</td>\n",
       "      <td>40</td>\n",
       "      <td>98</td>\n",
       "      <td>82</td>\n",
       "      <td>-47</td>\n",
       "      <td>11</td>\n",
       "      <td>-5</td>\n",
       "    </tr>\n",
       "    <tr>\n",
       "      <th>6</th>\n",
       "      <td>6</td>\n",
       "      <td>96</td>\n",
       "      <td>46</td>\n",
       "      <td>116</td>\n",
       "      <td>97</td>\n",
       "      <td>-50</td>\n",
       "      <td>20</td>\n",
       "      <td>1</td>\n",
       "    </tr>\n",
       "    <tr>\n",
       "      <th>7</th>\n",
       "      <td>6</td>\n",
       "      <td>97</td>\n",
       "      <td>46</td>\n",
       "      <td>116</td>\n",
       "      <td>97</td>\n",
       "      <td>-51</td>\n",
       "      <td>19</td>\n",
       "      <td>0</td>\n",
       "    </tr>\n",
       "    <tr>\n",
       "      <th>8</th>\n",
       "      <td>7</td>\n",
       "      <td>109</td>\n",
       "      <td>52</td>\n",
       "      <td>134</td>\n",
       "      <td>112</td>\n",
       "      <td>-57</td>\n",
       "      <td>25</td>\n",
       "      <td>3</td>\n",
       "    </tr>\n",
       "    <tr>\n",
       "      <th>9</th>\n",
       "      <td>8</td>\n",
       "      <td>119</td>\n",
       "      <td>58</td>\n",
       "      <td>152</td>\n",
       "      <td>127</td>\n",
       "      <td>-61</td>\n",
       "      <td>33</td>\n",
       "      <td>8</td>\n",
       "    </tr>\n",
       "    <tr>\n",
       "      <th>10</th>\n",
       "      <td>9</td>\n",
       "      <td>149</td>\n",
       "      <td>64</td>\n",
       "      <td>170</td>\n",
       "      <td>142</td>\n",
       "      <td>-85</td>\n",
       "      <td>21</td>\n",
       "      <td>-7</td>\n",
       "    </tr>\n",
       "    <tr>\n",
       "      <th>11</th>\n",
       "      <td>9</td>\n",
       "      <td>145</td>\n",
       "      <td>64</td>\n",
       "      <td>170</td>\n",
       "      <td>142</td>\n",
       "      <td>-81</td>\n",
       "      <td>25</td>\n",
       "      <td>-3</td>\n",
       "    </tr>\n",
       "    <tr>\n",
       "      <th>12</th>\n",
       "      <td>10</td>\n",
       "      <td>154</td>\n",
       "      <td>70</td>\n",
       "      <td>188</td>\n",
       "      <td>157</td>\n",
       "      <td>-84</td>\n",
       "      <td>34</td>\n",
       "      <td>3</td>\n",
       "    </tr>\n",
       "    <tr>\n",
       "      <th>13</th>\n",
       "      <td>10</td>\n",
       "      <td>166</td>\n",
       "      <td>70</td>\n",
       "      <td>188</td>\n",
       "      <td>157</td>\n",
       "      <td>-96</td>\n",
       "      <td>22</td>\n",
       "      <td>-9</td>\n",
       "    </tr>\n",
       "  </tbody>\n",
       "</table>\n",
       "</div>"
      ],
      "text/plain": [
       "    Units  Minutes  est1  est2  est3  error1  error2  error3\n",
       "0       1       23    16    26    22      -7       3      -1\n",
       "1       2       29    22    44    37      -7      15       8\n",
       "2       3       49    28    62    52     -21      13       3\n",
       "3       4       64    34    80    67     -30      16       3\n",
       "4       4       74    34    80    67     -40       6      -7\n",
       "5       5       87    40    98    82     -47      11      -5\n",
       "6       6       96    46   116    97     -50      20       1\n",
       "7       6       97    46   116    97     -51      19       0\n",
       "8       7      109    52   134   112     -57      25       3\n",
       "9       8      119    58   152   127     -61      33       8\n",
       "10      9      149    64   170   142     -85      21      -7\n",
       "11      9      145    64   170   142     -81      25      -3\n",
       "12     10      154    70   188   157     -84      34       3\n",
       "13     10      166    70   188   157     -96      22      -9"
      ]
     },
     "execution_count": 28,
     "metadata": {},
     "output_type": "execute_result"
    }
   ],
   "source": [
    "computers_data"
   ]
  },
  {
   "cell_type": "code",
   "execution_count": 29,
   "metadata": {},
   "outputs": [
    {
     "data": {
      "text/plain": [
       "-51.214285714285715"
      ]
     },
     "execution_count": 29,
     "metadata": {},
     "output_type": "execute_result"
    }
   ],
   "source": [
    "# Average error when using est1 (model1)\n",
    "computers_data.error1.mean()"
   ]
  },
  {
   "cell_type": "code",
   "execution_count": 30,
   "metadata": {},
   "outputs": [
    {
     "data": {
      "text/plain": [
       "18.785714285714285"
      ]
     },
     "execution_count": 30,
     "metadata": {},
     "output_type": "execute_result"
    }
   ],
   "source": [
    "# Average error when using est2 (model2)\n",
    "computers_data.error2.mean()"
   ]
  },
  {
   "cell_type": "code",
   "execution_count": 33,
   "metadata": {},
   "outputs": [
    {
     "data": {
      "text/plain": [
       "-0.21428571428571427"
      ]
     },
     "execution_count": 33,
     "metadata": {},
     "output_type": "execute_result"
    }
   ],
   "source": [
    "# Average error when using est3 (model3)\n",
    "computers_data.error3.mean()"
   ]
  },
  {
   "cell_type": "code",
   "execution_count": 34,
   "metadata": {},
   "outputs": [],
   "source": [
    "computers_data['mean_est'] = computers_data.Minutes.mean()"
   ]
  },
  {
   "cell_type": "code",
   "execution_count": 36,
   "metadata": {},
   "outputs": [],
   "source": [
    "computers_data['error_mean'] = computers_data.mean_est - computers_data.Minutes"
   ]
  },
  {
   "cell_type": "code",
   "execution_count": null,
   "metadata": {},
   "outputs": [],
   "source": []
  },
  {
   "cell_type": "code",
   "execution_count": 39,
   "metadata": {},
   "outputs": [],
   "source": [
    "from sklearn.linear_model import LinearRegression"
   ]
  },
  {
   "cell_type": "code",
   "execution_count": 43,
   "metadata": {},
   "outputs": [],
   "source": [
    "x = computers_data[['Units']]\n",
    "y = computers_data[['Minutes']]\n",
    "model = LinearRegression()"
   ]
  },
  {
   "cell_type": "code",
   "execution_count": 44,
   "metadata": {},
   "outputs": [
    {
     "data": {
      "text/plain": [
       "LinearRegression(copy_X=True, fit_intercept=True, n_jobs=None,\n",
       "         normalize=False)"
      ]
     },
     "execution_count": 44,
     "metadata": {},
     "output_type": "execute_result"
    }
   ],
   "source": [
    "model.fit(x,y)"
   ]
  },
  {
   "cell_type": "code",
   "execution_count": 45,
   "metadata": {},
   "outputs": [
    {
     "data": {
      "text/plain": [
       "(array([[15.50877193]]), array([4.16165414]))"
      ]
     },
     "execution_count": 45,
     "metadata": {},
     "output_type": "execute_result"
    }
   ],
   "source": [
    "model.coef_, model.intercept_"
   ]
  },
  {
   "cell_type": "code",
   "execution_count": 49,
   "metadata": {},
   "outputs": [
    {
     "data": {
      "text/plain": [
       "(15.508771929824565, 4.16165413533831)"
      ]
     },
     "execution_count": 49,
     "metadata": {},
     "output_type": "execute_result"
    }
   ],
   "source": [
    "m_best = model.coef_[0][0]\n",
    "c_best = model.intercept_[0]\n",
    "m_best,c_best"
   ]
  },
  {
   "cell_type": "code",
   "execution_count": 50,
   "metadata": {},
   "outputs": [],
   "source": [
    "computers_data['best_est'] = m_best*computers_data.Units + c_best"
   ]
  },
  {
   "cell_type": "code",
   "execution_count": 51,
   "metadata": {},
   "outputs": [
    {
     "data": {
      "text/html": [
       "<div>\n",
       "<style scoped>\n",
       "    .dataframe tbody tr th:only-of-type {\n",
       "        vertical-align: middle;\n",
       "    }\n",
       "\n",
       "    .dataframe tbody tr th {\n",
       "        vertical-align: top;\n",
       "    }\n",
       "\n",
       "    .dataframe thead th {\n",
       "        text-align: right;\n",
       "    }\n",
       "</style>\n",
       "<table border=\"1\" class=\"dataframe\">\n",
       "  <thead>\n",
       "    <tr style=\"text-align: right;\">\n",
       "      <th></th>\n",
       "      <th>Units</th>\n",
       "      <th>Minutes</th>\n",
       "      <th>est1</th>\n",
       "      <th>est2</th>\n",
       "      <th>est3</th>\n",
       "      <th>error1</th>\n",
       "      <th>error2</th>\n",
       "      <th>error3</th>\n",
       "      <th>mean_est</th>\n",
       "      <th>error_mean</th>\n",
       "      <th>best_est</th>\n",
       "    </tr>\n",
       "  </thead>\n",
       "  <tbody>\n",
       "    <tr>\n",
       "      <th>0</th>\n",
       "      <td>1</td>\n",
       "      <td>23</td>\n",
       "      <td>16</td>\n",
       "      <td>26</td>\n",
       "      <td>22</td>\n",
       "      <td>-7</td>\n",
       "      <td>3</td>\n",
       "      <td>-1</td>\n",
       "      <td>97.214286</td>\n",
       "      <td>74.214286</td>\n",
       "      <td>19.670426</td>\n",
       "    </tr>\n",
       "    <tr>\n",
       "      <th>1</th>\n",
       "      <td>2</td>\n",
       "      <td>29</td>\n",
       "      <td>22</td>\n",
       "      <td>44</td>\n",
       "      <td>37</td>\n",
       "      <td>-7</td>\n",
       "      <td>15</td>\n",
       "      <td>8</td>\n",
       "      <td>97.214286</td>\n",
       "      <td>68.214286</td>\n",
       "      <td>35.179198</td>\n",
       "    </tr>\n",
       "    <tr>\n",
       "      <th>2</th>\n",
       "      <td>3</td>\n",
       "      <td>49</td>\n",
       "      <td>28</td>\n",
       "      <td>62</td>\n",
       "      <td>52</td>\n",
       "      <td>-21</td>\n",
       "      <td>13</td>\n",
       "      <td>3</td>\n",
       "      <td>97.214286</td>\n",
       "      <td>48.214286</td>\n",
       "      <td>50.687970</td>\n",
       "    </tr>\n",
       "    <tr>\n",
       "      <th>3</th>\n",
       "      <td>4</td>\n",
       "      <td>64</td>\n",
       "      <td>34</td>\n",
       "      <td>80</td>\n",
       "      <td>67</td>\n",
       "      <td>-30</td>\n",
       "      <td>16</td>\n",
       "      <td>3</td>\n",
       "      <td>97.214286</td>\n",
       "      <td>33.214286</td>\n",
       "      <td>66.196742</td>\n",
       "    </tr>\n",
       "    <tr>\n",
       "      <th>4</th>\n",
       "      <td>4</td>\n",
       "      <td>74</td>\n",
       "      <td>34</td>\n",
       "      <td>80</td>\n",
       "      <td>67</td>\n",
       "      <td>-40</td>\n",
       "      <td>6</td>\n",
       "      <td>-7</td>\n",
       "      <td>97.214286</td>\n",
       "      <td>23.214286</td>\n",
       "      <td>66.196742</td>\n",
       "    </tr>\n",
       "    <tr>\n",
       "      <th>5</th>\n",
       "      <td>5</td>\n",
       "      <td>87</td>\n",
       "      <td>40</td>\n",
       "      <td>98</td>\n",
       "      <td>82</td>\n",
       "      <td>-47</td>\n",
       "      <td>11</td>\n",
       "      <td>-5</td>\n",
       "      <td>97.214286</td>\n",
       "      <td>10.214286</td>\n",
       "      <td>81.705514</td>\n",
       "    </tr>\n",
       "    <tr>\n",
       "      <th>6</th>\n",
       "      <td>6</td>\n",
       "      <td>96</td>\n",
       "      <td>46</td>\n",
       "      <td>116</td>\n",
       "      <td>97</td>\n",
       "      <td>-50</td>\n",
       "      <td>20</td>\n",
       "      <td>1</td>\n",
       "      <td>97.214286</td>\n",
       "      <td>1.214286</td>\n",
       "      <td>97.214286</td>\n",
       "    </tr>\n",
       "    <tr>\n",
       "      <th>7</th>\n",
       "      <td>6</td>\n",
       "      <td>97</td>\n",
       "      <td>46</td>\n",
       "      <td>116</td>\n",
       "      <td>97</td>\n",
       "      <td>-51</td>\n",
       "      <td>19</td>\n",
       "      <td>0</td>\n",
       "      <td>97.214286</td>\n",
       "      <td>0.214286</td>\n",
       "      <td>97.214286</td>\n",
       "    </tr>\n",
       "    <tr>\n",
       "      <th>8</th>\n",
       "      <td>7</td>\n",
       "      <td>109</td>\n",
       "      <td>52</td>\n",
       "      <td>134</td>\n",
       "      <td>112</td>\n",
       "      <td>-57</td>\n",
       "      <td>25</td>\n",
       "      <td>3</td>\n",
       "      <td>97.214286</td>\n",
       "      <td>-11.785714</td>\n",
       "      <td>112.723058</td>\n",
       "    </tr>\n",
       "    <tr>\n",
       "      <th>9</th>\n",
       "      <td>8</td>\n",
       "      <td>119</td>\n",
       "      <td>58</td>\n",
       "      <td>152</td>\n",
       "      <td>127</td>\n",
       "      <td>-61</td>\n",
       "      <td>33</td>\n",
       "      <td>8</td>\n",
       "      <td>97.214286</td>\n",
       "      <td>-21.785714</td>\n",
       "      <td>128.231830</td>\n",
       "    </tr>\n",
       "    <tr>\n",
       "      <th>10</th>\n",
       "      <td>9</td>\n",
       "      <td>149</td>\n",
       "      <td>64</td>\n",
       "      <td>170</td>\n",
       "      <td>142</td>\n",
       "      <td>-85</td>\n",
       "      <td>21</td>\n",
       "      <td>-7</td>\n",
       "      <td>97.214286</td>\n",
       "      <td>-51.785714</td>\n",
       "      <td>143.740602</td>\n",
       "    </tr>\n",
       "    <tr>\n",
       "      <th>11</th>\n",
       "      <td>9</td>\n",
       "      <td>145</td>\n",
       "      <td>64</td>\n",
       "      <td>170</td>\n",
       "      <td>142</td>\n",
       "      <td>-81</td>\n",
       "      <td>25</td>\n",
       "      <td>-3</td>\n",
       "      <td>97.214286</td>\n",
       "      <td>-47.785714</td>\n",
       "      <td>143.740602</td>\n",
       "    </tr>\n",
       "    <tr>\n",
       "      <th>12</th>\n",
       "      <td>10</td>\n",
       "      <td>154</td>\n",
       "      <td>70</td>\n",
       "      <td>188</td>\n",
       "      <td>157</td>\n",
       "      <td>-84</td>\n",
       "      <td>34</td>\n",
       "      <td>3</td>\n",
       "      <td>97.214286</td>\n",
       "      <td>-56.785714</td>\n",
       "      <td>159.249373</td>\n",
       "    </tr>\n",
       "    <tr>\n",
       "      <th>13</th>\n",
       "      <td>10</td>\n",
       "      <td>166</td>\n",
       "      <td>70</td>\n",
       "      <td>188</td>\n",
       "      <td>157</td>\n",
       "      <td>-96</td>\n",
       "      <td>22</td>\n",
       "      <td>-9</td>\n",
       "      <td>97.214286</td>\n",
       "      <td>-68.785714</td>\n",
       "      <td>159.249373</td>\n",
       "    </tr>\n",
       "  </tbody>\n",
       "</table>\n",
       "</div>"
      ],
      "text/plain": [
       "    Units  Minutes  est1  est2  est3  error1  error2  error3   mean_est  \\\n",
       "0       1       23    16    26    22      -7       3      -1  97.214286   \n",
       "1       2       29    22    44    37      -7      15       8  97.214286   \n",
       "2       3       49    28    62    52     -21      13       3  97.214286   \n",
       "3       4       64    34    80    67     -30      16       3  97.214286   \n",
       "4       4       74    34    80    67     -40       6      -7  97.214286   \n",
       "5       5       87    40    98    82     -47      11      -5  97.214286   \n",
       "6       6       96    46   116    97     -50      20       1  97.214286   \n",
       "7       6       97    46   116    97     -51      19       0  97.214286   \n",
       "8       7      109    52   134   112     -57      25       3  97.214286   \n",
       "9       8      119    58   152   127     -61      33       8  97.214286   \n",
       "10      9      149    64   170   142     -85      21      -7  97.214286   \n",
       "11      9      145    64   170   142     -81      25      -3  97.214286   \n",
       "12     10      154    70   188   157     -84      34       3  97.214286   \n",
       "13     10      166    70   188   157     -96      22      -9  97.214286   \n",
       "\n",
       "    error_mean    best_est  \n",
       "0    74.214286   19.670426  \n",
       "1    68.214286   35.179198  \n",
       "2    48.214286   50.687970  \n",
       "3    33.214286   66.196742  \n",
       "4    23.214286   66.196742  \n",
       "5    10.214286   81.705514  \n",
       "6     1.214286   97.214286  \n",
       "7     0.214286   97.214286  \n",
       "8   -11.785714  112.723058  \n",
       "9   -21.785714  128.231830  \n",
       "10  -51.785714  143.740602  \n",
       "11  -47.785714  143.740602  \n",
       "12  -56.785714  159.249373  \n",
       "13  -68.785714  159.249373  "
      ]
     },
     "execution_count": 51,
     "metadata": {},
     "output_type": "execute_result"
    }
   ],
   "source": [
    "computers_data"
   ]
  },
  {
   "cell_type": "code",
   "execution_count": null,
   "metadata": {},
   "outputs": [],
   "source": [
    "computers_data['error_best'] = "
   ]
  }
 ],
 "metadata": {
  "kernelspec": {
   "display_name": "Python 3",
   "language": "python",
   "name": "python3"
  },
  "language_info": {
   "codemirror_mode": {
    "name": "ipython",
    "version": 3
   },
   "file_extension": ".py",
   "mimetype": "text/x-python",
   "name": "python",
   "nbconvert_exporter": "python",
   "pygments_lexer": "ipython3",
   "version": "3.7.1"
  }
 },
 "nbformat": 4,
 "nbformat_minor": 2
}
